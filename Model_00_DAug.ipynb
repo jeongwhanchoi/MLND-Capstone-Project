{
 "cells": [
  {
   "cell_type": "code",
   "execution_count": 1,
   "metadata": {},
   "outputs": [],
   "source": [
    "import numpy as np\n",
    "import pandas as pd\n",
    "from sklearn.model_selection import train_test_split\n",
    "from os.path import join as opj\n",
    "from matplotlib import pyplot as plt\n",
    "from mpl_toolkits.mplot3d import Axes3D\n",
    "import pylab\n",
    "plt.rcParams['figure.figsize'] = 10, 10\n",
    "%matplotlib inline"
   ]
  },
  {
   "cell_type": "code",
   "execution_count": 2,
   "metadata": {},
   "outputs": [],
   "source": [
    "#Load the data.\n",
    "train = pd.read_json(\"input/train.json\")\n",
    "target_train = np.array(train['is_iceberg'])\n",
    "test = pd.read_json(\"input/test.json\")"
   ]
  },
  {
   "cell_type": "code",
   "execution_count": 3,
   "metadata": {},
   "outputs": [],
   "source": [
    "#Generate the training data\n",
    "#Create 3 bands having HH, HV and avg of both\n",
    "X_band_1=np.array([np.array(band).astype(np.float32).reshape(75, 75) for band in train[\"band_1\"]])\n",
    "X_band_2=np.array([np.array(band).astype(np.float32).reshape(75, 75) for band in train[\"band_2\"]])\n",
    "X_train = np.concatenate([X_band_1[:, :, :, np.newaxis], X_band_2[:, :, :, np.newaxis],((X_band_1+X_band_2)/2)[:, :, :, np.newaxis]], axis=-1)"
   ]
  },
  {
   "cell_type": "code",
   "execution_count": 4,
   "metadata": {},
   "outputs": [],
   "source": [
    "train.inc_angle = train.inc_angle.replace('na', 0)\n",
    "idx_tr = np.where(train.inc_angle > 0)"
   ]
  },
  {
   "cell_type": "code",
   "execution_count": 5,
   "metadata": {},
   "outputs": [],
   "source": [
    "Y_train = target_train[idx_tr[0]]\n",
    "X_train = X_train[idx_tr[0],...]"
   ]
  },
  {
   "cell_type": "markdown",
   "metadata": {},
   "source": [
    "---\n"
   ]
  },
  {
   "cell_type": "code",
   "execution_count": 6,
   "metadata": {},
   "outputs": [],
   "source": [
    "# import cv2\n",
    "# def get_more_images(imgs):\n",
    "    \n",
    "#     more_images = []\n",
    "#     vert_flip_imgs = []\n",
    "#     hori_flip_imgs = []\n",
    "      \n",
    "#     for i in range(0,imgs.shape[0]):\n",
    "#         a=imgs[i,:,:,0]\n",
    "#         b=imgs[i,:,:,1]\n",
    "#         c=imgs[i,:,:,2]\n",
    "        \n",
    "#         av=cv2.flip(a,1)\n",
    "#         ah=cv2.flip(a,0)\n",
    "#         bv=cv2.flip(b,1)\n",
    "#         bh=cv2.flip(b,0)\n",
    "#         cv=cv2.flip(c,1)\n",
    "#         ch=cv2.flip(c,0)\n",
    "        \n",
    "#         vert_flip_imgs.append(np.dstack((av, bv, cv)))\n",
    "#         hori_flip_imgs.append(np.dstack((ah, bh, ch)))\n",
    "      \n",
    "#     v = np.array(vert_flip_imgs)\n",
    "#     h = np.array(hori_flip_imgs)\n",
    "       \n",
    "#     more_images = np.concatenate((imgs,v,h))\n",
    "    \n",
    "#     return more_images"
   ]
  },
  {
   "cell_type": "code",
   "execution_count": 7,
   "metadata": {},
   "outputs": [],
   "source": [
    "# X_train_more = get_more_images(X_train)"
   ]
  },
  {
   "cell_type": "code",
   "execution_count": 8,
   "metadata": {},
   "outputs": [],
   "source": [
    "# Y_train_more = np.concatenate((Y_train, Y_train, Y_train))"
   ]
  },
  {
   "cell_type": "markdown",
   "metadata": {},
   "source": [
    "---"
   ]
  },
  {
   "cell_type": "code",
   "execution_count": 9,
   "metadata": {},
   "outputs": [
    {
     "name": "stderr",
     "output_type": "stream",
     "text": [
      "Using TensorFlow backend.\n"
     ]
    }
   ],
   "source": [
    "#Import Keras.\n",
    "from matplotlib import pyplot\n",
    "from keras.preprocessing.image import ImageDataGenerator\n",
    "from keras.models import Sequential\n",
    "from keras.layers import Conv2D, MaxPooling2D, Dense, Dropout, Input, Flatten, Activation\n",
    "from keras.layers import GlobalMaxPooling2D\n",
    "from keras.layers.normalization import BatchNormalization\n",
    "from keras.layers.merge import Concatenate\n",
    "from keras.models import Model\n",
    "from keras import initializers\n",
    "from keras.optimizers import Adam\n",
    "from keras.callbacks import ModelCheckpoint, Callback, EarlyStopping"
   ]
  },
  {
   "cell_type": "code",
   "execution_count": 10,
   "metadata": {},
   "outputs": [],
   "source": [
    "#Data Aug for multi-input\n",
    "from keras.preprocessing.image import ImageDataGenerator\n",
    "batch_size=64\n",
    "# Define the image transformations here\n",
    "gen = ImageDataGenerator(horizontal_flip = True,\n",
    "                         vertical_flip = True,\n",
    "                         width_shift_range = 0.,\n",
    "                         height_shift_range = 0.,\n",
    "                         channel_shift_range=0,\n",
    "                         zoom_range = 0.2,\n",
    "                         rotation_range = 10)"
   ]
  },
  {
   "cell_type": "code",
   "execution_count": 11,
   "metadata": {},
   "outputs": [],
   "source": [
    "# X_batch, y_batch = gen.flow(X_train, X_train, batch_size=batch_size)\n",
    "# def gen_flow_for_two_inputs(X, y):\n",
    "#     genX1 = gen.flow(X,y,  batch_size=batch_size,seed=55)\n",
    "#     genX2 = gen.flow(X1,X2, batch_size=batch_size,seed=55)\n",
    "#     while True:\n",
    "#             X1i = genX1.next()\n",
    "#             X2i = genX2.next()\n",
    "#             #Assert arrays are equal - this was for peace of mind, but slows down training\n",
    "#             #np.testing.assert_array_equal(X1i[0],X2i[0])\n",
    "#             yield [X1i[0], X2i[1]], X1i[1]"
   ]
  },
  {
   "cell_type": "code",
   "execution_count": 29,
   "metadata": {},
   "outputs": [],
   "source": [
    "#define our model\n",
    "def getModel():\n",
    "    #Building the model\n",
    "    model=Sequential()\n",
    "    model.add(Conv2D(32, 3, activation=\"relu\", input_shape=(75, 75, 3)))\n",
    "    model.add(Dropout(0.2))\n",
    "    model.add(MaxPooling2D())\n",
    "\n",
    "    model.add(Conv2D(64, 3, activation=\"relu\", input_shape=(75, 75, 3)))\n",
    "    model.add(Dropout(0.2))\n",
    "    model.add(MaxPooling2D())\n",
    "\n",
    "    model.add(GlobalMaxPooling2D())\n",
    "    model.add(Dropout(0.3))\n",
    "    model.add(Dense(1, activation=\"sigmoid\"))\n",
    "    \n",
    "    adam=Adam(lr=0.001, beta_1=0.9, beta_2=0.999, epsilon=1e-08, decay=0.0)\n",
    "    model.compile(adam, \"binary_crossentropy\", metrics=[\"accuracy\"])\n",
    "    \n",
    "    model.summary()\n",
    "    return model"
   ]
  },
  {
   "cell_type": "code",
   "execution_count": 30,
   "metadata": {},
   "outputs": [],
   "source": [
    "def get_callbacks(filepath, patience=2):\n",
    "    es = EarlyStopping('val_loss', patience=patience, mode=\"min\")\n",
    "    msave = ModelCheckpoint(filepath, save_best_only=True)\n",
    "    return [es, msave]\n",
    "file_path = \".model_weights.hdf5\"\n",
    "callbacks = get_callbacks(filepath=file_path, patience=10)"
   ]
  },
  {
   "cell_type": "code",
   "execution_count": 31,
   "metadata": {},
   "outputs": [],
   "source": [
    "X_train_cv, X_valid, y_train_cv, y_valid = train_test_split(X_train, Y_train, random_state=1, train_size=0.75)"
   ]
  },
  {
   "cell_type": "code",
   "execution_count": 38,
   "metadata": {
    "scrolled": true
   },
   "outputs": [
    {
     "name": "stdout",
     "output_type": "stream",
     "text": [
      "_________________________________________________________________\n",
      "Layer (type)                 Output Shape              Param #   \n",
      "=================================================================\n",
      "conv2d_9 (Conv2D)            (None, 73, 73, 32)        896       \n",
      "_________________________________________________________________\n",
      "dropout_13 (Dropout)         (None, 73, 73, 32)        0         \n",
      "_________________________________________________________________\n",
      "max_pooling2d_9 (MaxPooling2 (None, 36, 36, 32)        0         \n",
      "_________________________________________________________________\n",
      "conv2d_10 (Conv2D)           (None, 34, 34, 64)        18496     \n",
      "_________________________________________________________________\n",
      "dropout_14 (Dropout)         (None, 34, 34, 64)        0         \n",
      "_________________________________________________________________\n",
      "max_pooling2d_10 (MaxPooling (None, 17, 17, 64)        0         \n",
      "_________________________________________________________________\n",
      "global_max_pooling2d_5 (Glob (None, 64)                0         \n",
      "_________________________________________________________________\n",
      "dropout_15 (Dropout)         (None, 64)                0         \n",
      "_________________________________________________________________\n",
      "dense_5 (Dense)              (None, 1)                 65        \n",
      "=================================================================\n",
      "Total params: 19,457\n",
      "Trainable params: 19,457\n",
      "Non-trainable params: 0\n",
      "_________________________________________________________________\n",
      "Epoch 1/100\n",
      "24/24 [==============================] - 1s 45ms/step - loss: 2.0187 - acc: 0.6004 - val_loss: 0.5239 - val_acc: 0.7391\n",
      "Epoch 2/100\n",
      "24/24 [==============================] - 1s 42ms/step - loss: 0.7721 - acc: 0.6628 - val_loss: 0.4859 - val_acc: 0.7473\n",
      "Epoch 3/100\n",
      "24/24 [==============================] - 1s 37ms/step - loss: 0.5102 - acc: 0.7337 - val_loss: 0.4709 - val_acc: 0.8016\n",
      "Epoch 4/100\n",
      "24/24 [==============================] - 1s 37ms/step - loss: 0.4636 - acc: 0.7768 - val_loss: 0.4468 - val_acc: 0.8179\n",
      "Epoch 5/100\n",
      "24/24 [==============================] - 1s 38ms/step - loss: 0.4581 - acc: 0.7708 - val_loss: 0.4544 - val_acc: 0.8370\n",
      "Epoch 6/100\n",
      "24/24 [==============================] - 1s 39ms/step - loss: 0.4600 - acc: 0.7848 - val_loss: 0.4606 - val_acc: 0.8261\n",
      "Epoch 7/100\n",
      "24/24 [==============================] - 1s 38ms/step - loss: 0.4729 - acc: 0.7708 - val_loss: 0.4500 - val_acc: 0.8451\n",
      "Epoch 8/100\n",
      "24/24 [==============================] - 1s 36ms/step - loss: 0.4470 - acc: 0.7982 - val_loss: 0.4517 - val_acc: 0.8424\n",
      "Epoch 9/100\n",
      "24/24 [==============================] - 1s 39ms/step - loss: 0.4456 - acc: 0.7930 - val_loss: 0.4152 - val_acc: 0.7935\n",
      "Epoch 10/100\n",
      "24/24 [==============================] - 1s 37ms/step - loss: 0.4608 - acc: 0.7781 - val_loss: 0.4181 - val_acc: 0.8261\n",
      "Epoch 11/100\n",
      "24/24 [==============================] - 1s 36ms/step - loss: 0.4013 - acc: 0.8280 - val_loss: 0.4271 - val_acc: 0.8179\n",
      "Epoch 12/100\n",
      "24/24 [==============================] - 1s 39ms/step - loss: 0.4666 - acc: 0.7721 - val_loss: 0.4068 - val_acc: 0.8261\n",
      "Epoch 13/100\n",
      "24/24 [==============================] - 1s 36ms/step - loss: 0.4141 - acc: 0.8030 - val_loss: 0.4231 - val_acc: 0.8261\n",
      "Epoch 14/100\n",
      "24/24 [==============================] - 1s 41ms/step - loss: 0.4118 - acc: 0.8125 - val_loss: 0.3912 - val_acc: 0.8288\n",
      "Epoch 15/100\n",
      "24/24 [==============================] - 1s 39ms/step - loss: 0.4495 - acc: 0.7769 - val_loss: 0.4188 - val_acc: 0.8424\n",
      "Epoch 16/100\n",
      "24/24 [==============================] - 1s 37ms/step - loss: 0.4040 - acc: 0.8146 - val_loss: 0.3725 - val_acc: 0.8397\n",
      "Epoch 17/100\n",
      "24/24 [==============================] - 1s 41ms/step - loss: 0.4320 - acc: 0.7917 - val_loss: 0.4050 - val_acc: 0.8125\n",
      "Epoch 18/100\n",
      "24/24 [==============================] - 1s 41ms/step - loss: 0.4131 - acc: 0.7899 - val_loss: 0.4144 - val_acc: 0.8342\n",
      "Epoch 19/100\n",
      "24/24 [==============================] - 1s 38ms/step - loss: 0.4084 - acc: 0.8185 - val_loss: 0.3677 - val_acc: 0.8451\n",
      "Epoch 20/100\n",
      "24/24 [==============================] - 1s 38ms/step - loss: 0.4064 - acc: 0.8146 - val_loss: 0.3719 - val_acc: 0.8560\n",
      "Epoch 21/100\n",
      "24/24 [==============================] - 1s 38ms/step - loss: 0.4184 - acc: 0.7995 - val_loss: 0.4325 - val_acc: 0.8043\n",
      "Epoch 22/100\n",
      "24/24 [==============================] - 1s 37ms/step - loss: 0.4223 - acc: 0.8057 - val_loss: 0.3948 - val_acc: 0.8125\n",
      "Epoch 23/100\n",
      "24/24 [==============================] - 1s 37ms/step - loss: 0.4435 - acc: 0.8029 - val_loss: 0.3728 - val_acc: 0.8451\n",
      "Epoch 24/100\n",
      "24/24 [==============================] - 1s 37ms/step - loss: 0.3912 - acc: 0.8198 - val_loss: 0.3579 - val_acc: 0.8533\n",
      "Epoch 25/100\n",
      "24/24 [==============================] - 1s 38ms/step - loss: 0.4110 - acc: 0.8216 - val_loss: 0.3665 - val_acc: 0.8560\n",
      "Epoch 26/100\n",
      "24/24 [==============================] - 1s 37ms/step - loss: 0.4242 - acc: 0.8122 - val_loss: 0.3781 - val_acc: 0.8478\n",
      "Epoch 27/100\n",
      "24/24 [==============================] - 1s 38ms/step - loss: 0.3826 - acc: 0.8241 - val_loss: 0.3586 - val_acc: 0.8533\n",
      "Epoch 28/100\n",
      "24/24 [==============================] - 1s 38ms/step - loss: 0.3942 - acc: 0.8307 - val_loss: 0.3675 - val_acc: 0.8587\n",
      "Epoch 29/100\n",
      "24/24 [==============================] - 1s 37ms/step - loss: 0.3765 - acc: 0.8146 - val_loss: 0.3612 - val_acc: 0.8641\n",
      "Epoch 30/100\n",
      "24/24 [==============================] - 1s 39ms/step - loss: 0.4145 - acc: 0.8086 - val_loss: 0.3529 - val_acc: 0.8560\n",
      "Epoch 31/100\n",
      "24/24 [==============================] - 1s 38ms/step - loss: 0.3772 - acc: 0.8238 - val_loss: 0.3742 - val_acc: 0.8668\n",
      "Epoch 32/100\n",
      "24/24 [==============================] - 1s 38ms/step - loss: 0.3564 - acc: 0.8473 - val_loss: 0.3453 - val_acc: 0.8587\n",
      "Epoch 33/100\n",
      "24/24 [==============================] - 1s 41ms/step - loss: 0.3788 - acc: 0.8289 - val_loss: 0.3624 - val_acc: 0.8587\n",
      "Epoch 34/100\n",
      "24/24 [==============================] - 1s 40ms/step - loss: 0.3665 - acc: 0.8359 - val_loss: 0.3541 - val_acc: 0.8641\n",
      "Epoch 35/100\n",
      "24/24 [==============================] - 1s 37ms/step - loss: 0.3884 - acc: 0.8159 - val_loss: 0.3561 - val_acc: 0.8397\n",
      "Epoch 36/100\n",
      "24/24 [==============================] - 1s 39ms/step - loss: 0.3897 - acc: 0.8237 - val_loss: 0.4105 - val_acc: 0.8505\n",
      "Epoch 37/100\n",
      "24/24 [==============================] - 1s 40ms/step - loss: 0.3917 - acc: 0.8302 - val_loss: 0.3755 - val_acc: 0.8505\n",
      "Epoch 38/100\n",
      "24/24 [==============================] - 1s 38ms/step - loss: 0.3779 - acc: 0.8303 - val_loss: 0.3376 - val_acc: 0.8587\n",
      "Epoch 39/100\n",
      "24/24 [==============================] - 1s 37ms/step - loss: 0.3656 - acc: 0.8346 - val_loss: 0.3336 - val_acc: 0.8505\n",
      "Epoch 40/100\n",
      "24/24 [==============================] - 1s 36ms/step - loss: 0.3901 - acc: 0.8196 - val_loss: 0.3560 - val_acc: 0.8533\n",
      "Epoch 41/100\n",
      "24/24 [==============================] - 1s 39ms/step - loss: 0.3799 - acc: 0.8177 - val_loss: 0.3368 - val_acc: 0.8478\n",
      "Epoch 42/100\n",
      "24/24 [==============================] - 1s 36ms/step - loss: 0.3645 - acc: 0.8303 - val_loss: 0.3595 - val_acc: 0.8505\n",
      "Epoch 43/100\n",
      "24/24 [==============================] - 1s 38ms/step - loss: 0.3730 - acc: 0.8255 - val_loss: 0.3288 - val_acc: 0.8614\n",
      "Epoch 44/100\n",
      "24/24 [==============================] - 1s 38ms/step - loss: 0.3889 - acc: 0.8277 - val_loss: 0.3874 - val_acc: 0.8288\n",
      "Epoch 45/100\n",
      "24/24 [==============================] - 1s 38ms/step - loss: 0.3762 - acc: 0.8314 - val_loss: 0.3579 - val_acc: 0.8696\n",
      "Epoch 46/100\n",
      "24/24 [==============================] - 1s 41ms/step - loss: 0.3630 - acc: 0.8289 - val_loss: 0.3396 - val_acc: 0.8641\n",
      "Epoch 47/100\n",
      "24/24 [==============================] - 1s 39ms/step - loss: 0.3664 - acc: 0.8411 - val_loss: 0.3301 - val_acc: 0.8723\n",
      "Epoch 48/100\n",
      "24/24 [==============================] - 1s 36ms/step - loss: 0.3779 - acc: 0.8184 - val_loss: 0.3734 - val_acc: 0.8723\n",
      "Epoch 49/100\n",
      "24/24 [==============================] - 1s 48ms/step - loss: 0.3663 - acc: 0.8151 - val_loss: 0.3202 - val_acc: 0.8641\n",
      "Epoch 50/100\n",
      "24/24 [==============================] - 1s 34ms/step - loss: 0.3461 - acc: 0.8402 - val_loss: 0.3322 - val_acc: 0.8424\n",
      "Epoch 51/100\n",
      "24/24 [==============================] - 1s 37ms/step - loss: 0.3723 - acc: 0.8359 - val_loss: 0.3475 - val_acc: 0.8424\n",
      "Epoch 52/100\n",
      "24/24 [==============================] - 1s 42ms/step - loss: 0.3476 - acc: 0.8486 - val_loss: 0.3213 - val_acc: 0.8587\n",
      "Epoch 53/100\n",
      "24/24 [==============================] - 1s 41ms/step - loss: 0.3419 - acc: 0.8366 - val_loss: 0.3125 - val_acc: 0.8560\n",
      "Epoch 54/100\n",
      "24/24 [==============================] - 1s 38ms/step - loss: 0.3992 - acc: 0.8060 - val_loss: 0.3539 - val_acc: 0.8560\n",
      "Epoch 55/100\n",
      "24/24 [==============================] - 1s 37ms/step - loss: 0.3691 - acc: 0.8289 - val_loss: 0.3243 - val_acc: 0.8750\n",
      "Epoch 56/100\n",
      "24/24 [==============================] - 1s 42ms/step - loss: 0.3722 - acc: 0.8315 - val_loss: 0.3169 - val_acc: 0.8723\n",
      "Epoch 57/100\n",
      "24/24 [==============================] - 1s 39ms/step - loss: 0.3635 - acc: 0.8255 - val_loss: 0.3500 - val_acc: 0.8451\n",
      "Epoch 58/100\n",
      "24/24 [==============================] - 1s 37ms/step - loss: 0.4012 - acc: 0.8112 - val_loss: 0.3384 - val_acc: 0.8641\n",
      "Epoch 59/100\n",
      "24/24 [==============================] - 1s 37ms/step - loss: 0.3917 - acc: 0.8115 - val_loss: 0.4431 - val_acc: 0.8478\n",
      "Epoch 60/100\n",
      "24/24 [==============================] - 1s 38ms/step - loss: 0.3839 - acc: 0.8411 - val_loss: 0.3430 - val_acc: 0.8668\n",
      "Epoch 61/100\n",
      "24/24 [==============================] - 1s 37ms/step - loss: 0.3708 - acc: 0.8289 - val_loss: 0.3347 - val_acc: 0.8723\n",
      "Epoch 62/100\n",
      "24/24 [==============================] - 1s 38ms/step - loss: 0.3570 - acc: 0.8320 - val_loss: 0.3306 - val_acc: 0.8505\n",
      "Epoch 63/100\n",
      "24/24 [==============================] - 1s 37ms/step - loss: 0.3964 - acc: 0.8257 - val_loss: 0.3250 - val_acc: 0.8397\n"
     ]
    }
   ],
   "source": [
    "model=getModel()\n",
    "\n",
    "# histr = model.fit(X_train_cv, y_train_cv,\n",
    "#           batch_size=24,\n",
    "#           epochs=50,\n",
    "#           verbose=1,\n",
    "#           validation_data=(X_valid, y_valid),\n",
    "#           callbacks=callbacks)\n",
    "\n",
    "gen_flow = gen.flow(X_train_cv, y_train_cv)\n",
    "histr = model.fit_generator(\n",
    "            gen_flow,\n",
    "            steps_per_epoch=24,\n",
    "            epochs=100,\n",
    "            shuffle=True,\n",
    "            verbose=1,\n",
    "            validation_data=(X_valid, y_valid),\n",
    "            callbacks=callbacks)"
   ]
  },
  {
   "cell_type": "code",
   "execution_count": 39,
   "metadata": {},
   "outputs": [
    {
     "name": "stdout",
     "output_type": "stream",
     "text": [
      "1103/1103 [==============================] - 0s 254us/step\n",
      "Train score: 0.317835671785\n",
      "Train accuracy: 0.855847689042\n"
     ]
    }
   ],
   "source": [
    "model.load_weights(filepath=file_path)\n",
    "score = model.evaluate(X_train_cv, y_train_cv, verbose=1)\n",
    "print('Train score:', score[0])\n",
    "print('Train accuracy:', score[1])"
   ]
  },
  {
   "cell_type": "code",
   "execution_count": 40,
   "metadata": {},
   "outputs": [
    {
     "name": "stdout",
     "output_type": "stream",
     "text": [
      "368/368 [==============================] - 0s 244us/step\n",
      "Test score: 0.3125035698\n",
      "Test accuracy: 0.85597826087\n"
     ]
    }
   ],
   "source": [
    "score = model.evaluate(X_valid, y_valid, verbose=1)\n",
    "print('Test score:', score[0])\n",
    "print('Test accuracy:', score[1])"
   ]
  },
  {
   "cell_type": "code",
   "execution_count": 41,
   "metadata": {},
   "outputs": [],
   "source": [
    "X_band_test_1=np.array([np.array(band).astype(np.float32).reshape(75, 75) for band in test[\"band_1\"]])\n",
    "X_band_test_2=np.array([np.array(band).astype(np.float32).reshape(75, 75) for band in test[\"band_2\"]])\n",
    "X_test = np.concatenate([X_band_test_1[:, :, :, np.newaxis]\n",
    "                          , X_band_test_2[:, :, :, np.newaxis]\n",
    "                         , ((X_band_test_1+X_band_test_2)/2)[:, :, :, np.newaxis]], axis=-1)\n",
    "predicted_test=model.predict_proba(X_test)"
   ]
  },
  {
   "cell_type": "code",
   "execution_count": 42,
   "metadata": {},
   "outputs": [],
   "source": [
    "submission = pd.DataFrame()\n",
    "submission['id']=test['id']\n",
    "submission['is_iceberg']=predicted_test.reshape((predicted_test.shape[0]))\n",
    "submission.to_csv('Model_00-DAug.csv', index=False)"
   ]
  },
  {
   "cell_type": "code",
   "execution_count": 43,
   "metadata": {},
   "outputs": [
    {
     "name": "stdout",
     "output_type": "stream",
     "text": [
      "dict_keys(['acc', 'loss', 'val_loss', 'val_acc'])\n"
     ]
    },
    {
     "data": {
      "image/png": "[encoded data removed]",
      "text/plain": [
       "<matplotlib.figure.Figure at 0x7fee7f0bab38>"
      ]
     },
     "metadata": {},
     "output_type": "display_data"
    },
    {
     "data": {
      "image/png": "[encoded data removed]",
      "text/plain": [
       "<matplotlib.figure.Figure at 0x7fee7ef4c278>"
      ]
     },
     "metadata": {},
     "output_type": "display_data"
    }
   ],
   "source": [
    "# list all data in history\n",
    "print(histr.history.keys())\n",
    "# summarize history for accuracy\n",
    "plt.plot(histr.history['acc'])\n",
    "plt.plot(histr.history['val_acc'])\n",
    "plt.title('model accuracy')\n",
    "plt.ylabel('accuracy')\n",
    "plt.xlabel('epoch')\n",
    "plt.legend(['train', 'test'], loc='upper left')\n",
    "plt.show()\n",
    "# summarize history for loss\n",
    "plt.plot(histr.history['loss'])\n",
    "plt.plot(histr.history['val_loss'])\n",
    "plt.title('model loss')\n",
    "plt.ylabel('loss')\n",
    "plt.xlabel('epoch')\n",
    "plt.legend(['train', 'test'], loc='upper left')\n",
    "plt.show()"
   ]
  },
  {
   "cell_type": "code",
   "execution_count": null,
   "metadata": {},
   "outputs": [],
   "source": []
  }
 ],
 "metadata": {
  "kernelspec": {
   "display_name": "Python 3",
   "language": "python",
   "name": "python3"
  },
  "language_info": {
   "codemirror_mode": {
    "name": "ipython",
    "version": 3
   },
   "file_extension": ".py",
   "mimetype": "text/x-python",
   "name": "python",
   "nbconvert_exporter": "python",
   "pygments_lexer": "ipython3",
   "version": "3.5.2"
  }
 },
 "nbformat": 4,
 "nbformat_minor": 2
}
