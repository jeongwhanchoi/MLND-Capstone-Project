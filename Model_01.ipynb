{
 "cells": [
  {
   "cell_type": "code",
   "execution_count": 1,
   "metadata": {},
   "outputs": [],
   "source": [
    "import numpy as np\n",
    "import pandas as pd\n",
    "from sklearn.model_selection import train_test_split\n",
    "from os.path import join as opj\n",
    "from matplotlib import pyplot as plt\n",
    "from mpl_toolkits.mplot3d import Axes3D\n",
    "import pylab\n",
    "plt.rcParams['figure.figsize'] = 10, 10\n",
    "%matplotlib inline"
   ]
  },
  {
   "cell_type": "code",
   "execution_count": 2,
   "metadata": {},
   "outputs": [],
   "source": [
    "#Load the data.\n",
    "train = pd.read_json(\"input/train.json\")\n",
    "target_train = np.array(train['is_iceberg'])\n",
    "test = pd.read_json(\"input/test.json\")"
   ]
  },
  {
   "cell_type": "code",
   "execution_count": 3,
   "metadata": {},
   "outputs": [],
   "source": [
    "#Generate the training data\n",
    "#Create 3 bands having HH, HV and avg of both\n",
    "X_band_1=np.array([np.array(band).astype(np.float32).reshape(75, 75) for band in train[\"band_1\"]])\n",
    "X_band_2=np.array([np.array(band).astype(np.float32).reshape(75, 75) for band in train[\"band_2\"]])\n",
    "X_train = np.concatenate([X_band_1[:, :, :, np.newaxis], X_band_2[:, :, :, np.newaxis],((X_band_1+X_band_2)/2)[:, :, :, np.newaxis]], axis=-1)"
   ]
  },
  {
   "cell_type": "code",
   "execution_count": 4,
   "metadata": {},
   "outputs": [],
   "source": [
    "train.inc_angle = train.inc_angle.replace('na', 0)\n",
    "idx_tr = np.where(train.inc_angle > 0)"
   ]
  },
  {
   "cell_type": "code",
   "execution_count": 5,
   "metadata": {},
   "outputs": [],
   "source": [
    "Y_train = target_train[idx_tr[0]]\n",
    "X_train = X_train[idx_tr[0],...]"
   ]
  },
  {
   "cell_type": "markdown",
   "metadata": {},
   "source": [
    "---\n"
   ]
  },
  {
   "cell_type": "code",
   "execution_count": 6,
   "metadata": {},
   "outputs": [],
   "source": [
    "import cv2\n",
    "def get_more_images(imgs):\n",
    "    \n",
    "    more_images = []\n",
    "    vert_flip_imgs = []\n",
    "    hori_flip_imgs = []\n",
    "      \n",
    "    for i in range(0,imgs.shape[0]):\n",
    "        a=imgs[i,:,:,0]\n",
    "        b=imgs[i,:,:,1]\n",
    "        c=imgs[i,:,:,2]\n",
    "        \n",
    "        av=cv2.flip(a,1)\n",
    "        ah=cv2.flip(a,0)\n",
    "        bv=cv2.flip(b,1)\n",
    "        bh=cv2.flip(b,0)\n",
    "        cv=cv2.flip(c,1)\n",
    "        ch=cv2.flip(c,0)\n",
    "        \n",
    "        vert_flip_imgs.append(np.dstack((av, bv, cv)))\n",
    "        hori_flip_imgs.append(np.dstack((ah, bh, ch)))\n",
    "      \n",
    "    v = np.array(vert_flip_imgs)\n",
    "    h = np.array(hori_flip_imgs)\n",
    "       \n",
    "    more_images = np.concatenate((imgs,v,h))\n",
    "    \n",
    "    return more_images"
   ]
  },
  {
   "cell_type": "code",
   "execution_count": 7,
   "metadata": {},
   "outputs": [],
   "source": [
    "X_train_more = get_more_images(X_train)"
   ]
  },
  {
   "cell_type": "code",
   "execution_count": 8,
   "metadata": {},
   "outputs": [],
   "source": [
    "Y_train_more = np.concatenate((Y_train, Y_train, Y_train))"
   ]
  },
  {
   "cell_type": "markdown",
   "metadata": {},
   "source": [
    "---"
   ]
  },
  {
   "cell_type": "code",
   "execution_count": 9,
   "metadata": {},
   "outputs": [
    {
     "name": "stderr",
     "output_type": "stream",
     "text": [
      "Using TensorFlow backend.\n"
     ]
    }
   ],
   "source": [
    "#Import Keras.\n",
    "from matplotlib import pyplot\n",
    "from keras.preprocessing.image import ImageDataGenerator\n",
    "from keras.models import Sequential\n",
    "from keras.layers import Conv2D, MaxPooling2D, Dense, Dropout, Input, Flatten, Activation\n",
    "from keras.layers import GlobalMaxPooling2D\n",
    "from keras.layers.normalization import BatchNormalization\n",
    "from keras.layers.merge import Concatenate\n",
    "from keras.models import Model\n",
    "from keras import initializers\n",
    "from keras.optimizers import Adam\n",
    "from keras.callbacks import ModelCheckpoint, Callback, EarlyStopping"
   ]
  },
  {
   "cell_type": "code",
   "execution_count": 10,
   "metadata": {},
   "outputs": [],
   "source": [
    "#define our model\n",
    "def getModel():\n",
    "    #Building the model\n",
    "    model=Sequential()\n",
    "    #Conv Layer 1\n",
    "    model.add(Conv2D(64, kernel_size=(3, 3),activation='relu', input_shape=(75, 75, 3)))\n",
    "    model.add(MaxPooling2D(pool_size=(3, 3), strides=(2, 2)))\n",
    "    model.add(Dropout(0.2))\n",
    "\n",
    "    #Conv Layer 2\n",
    "    model.add(Conv2D(128, kernel_size=(3, 3), activation='relu' ))\n",
    "    model.add(MaxPooling2D(pool_size=(2, 2), strides=(2, 2)))\n",
    "    model.add(Dropout(0.2))\n",
    "\n",
    "    #Conv Layer 3\n",
    "    model.add(Conv2D(128, kernel_size=(3, 3), activation='relu'))\n",
    "    model.add(MaxPooling2D(pool_size=(2, 2), strides=(2, 2)))\n",
    "    model.add(Dropout(0.2))\n",
    "\n",
    "    #Conv Layer 4\n",
    "    model.add(Conv2D(64, kernel_size=(3, 3), activation='relu'))\n",
    "    model.add(MaxPooling2D(pool_size=(2, 2), strides=(2, 2)))\n",
    "    model.add(Dropout(0.2))\n",
    "\n",
    "    #Flatten the data for upcoming dense layers\n",
    "    model.add(Flatten())\n",
    "\n",
    "    #Dense Layers\n",
    "    model.add(Dense(512))\n",
    "    model.add(Activation('relu'))\n",
    "    model.add(Dropout(0.2))\n",
    "\n",
    "    #Dense Layer 2\n",
    "    model.add(Dense(256))\n",
    "    model.add(Activation('relu'))\n",
    "    model.add(Dropout(0.2))\n",
    "\n",
    "    #Sigmoid Layer\n",
    "    model.add(Dense(1))\n",
    "    model.add(Activation('sigmoid'))\n",
    "\n",
    "    mypotim=Adam(lr=0.001, beta_1=0.9, beta_2=0.999, epsilon=1e-08, decay=0.0)\n",
    "    model.compile(loss='binary_crossentropy',\n",
    "                  optimizer=mypotim,\n",
    "                  metrics=['accuracy'])\n",
    "    model.summary()\n",
    "    return model"
   ]
  },
  {
   "cell_type": "code",
   "execution_count": 11,
   "metadata": {},
   "outputs": [],
   "source": [
    "def get_callbacks(filepath, patience=2):\n",
    "    es = EarlyStopping('val_loss', patience=patience, mode=\"min\")\n",
    "    msave = ModelCheckpoint(filepath, save_best_only=True)\n",
    "    return [es, msave]\n",
    "file_path = \".model_weights.hdf5\"\n",
    "callbacks = get_callbacks(filepath=file_path, patience=5)"
   ]
  },
  {
   "cell_type": "code",
   "execution_count": 13,
   "metadata": {},
   "outputs": [],
   "source": [
    "X_train_cv, X_valid, y_train_cv, y_valid = train_test_split(X_train_more, Y_train_more, random_state=1, train_size=0.75)"
   ]
  },
  {
   "cell_type": "code",
   "execution_count": 14,
   "metadata": {},
   "outputs": [
    {
     "name": "stdout",
     "output_type": "stream",
     "text": [
      "_________________________________________________________________\n",
      "Layer (type)                 Output Shape              Param #   \n",
      "=================================================================\n",
      "conv2d_1 (Conv2D)            (None, 73, 73, 64)        1792      \n",
      "_________________________________________________________________\n",
      "max_pooling2d_1 (MaxPooling2 (None, 36, 36, 64)        0         \n",
      "_________________________________________________________________\n",
      "dropout_1 (Dropout)          (None, 36, 36, 64)        0         \n",
      "_________________________________________________________________\n",
      "conv2d_2 (Conv2D)            (None, 34, 34, 128)       73856     \n",
      "_________________________________________________________________\n",
      "max_pooling2d_2 (MaxPooling2 (None, 17, 17, 128)       0         \n",
      "_________________________________________________________________\n",
      "dropout_2 (Dropout)          (None, 17, 17, 128)       0         \n",
      "_________________________________________________________________\n",
      "conv2d_3 (Conv2D)            (None, 15, 15, 128)       147584    \n",
      "_________________________________________________________________\n",
      "max_pooling2d_3 (MaxPooling2 (None, 7, 7, 128)         0         \n",
      "_________________________________________________________________\n",
      "dropout_3 (Dropout)          (None, 7, 7, 128)         0         \n",
      "_________________________________________________________________\n",
      "conv2d_4 (Conv2D)            (None, 5, 5, 64)          73792     \n",
      "_________________________________________________________________\n",
      "max_pooling2d_4 (MaxPooling2 (None, 2, 2, 64)          0         \n",
      "_________________________________________________________________\n",
      "dropout_4 (Dropout)          (None, 2, 2, 64)          0         \n",
      "_________________________________________________________________\n",
      "flatten_1 (Flatten)          (None, 256)               0         \n",
      "_________________________________________________________________\n",
      "dense_1 (Dense)              (None, 512)               131584    \n",
      "_________________________________________________________________\n",
      "activation_1 (Activation)    (None, 512)               0         \n",
      "_________________________________________________________________\n",
      "dropout_5 (Dropout)          (None, 512)               0         \n",
      "_________________________________________________________________\n",
      "dense_2 (Dense)              (None, 256)               131328    \n",
      "_________________________________________________________________\n",
      "activation_2 (Activation)    (None, 256)               0         \n",
      "_________________________________________________________________\n",
      "dropout_6 (Dropout)          (None, 256)               0         \n",
      "_________________________________________________________________\n",
      "dense_3 (Dense)              (None, 1)                 257       \n",
      "_________________________________________________________________\n",
      "activation_3 (Activation)    (None, 1)                 0         \n",
      "=================================================================\n",
      "Total params: 560,193\n",
      "Trainable params: 560,193\n",
      "Non-trainable params: 0\n",
      "_________________________________________________________________\n",
      "Train on 3309 samples, validate on 1104 samples\n",
      "Epoch 1/50\n",
      "3309/3309 [==============================] - 6s 2ms/step - loss: 0.7278 - acc: 0.6186 - val_loss: 0.5298 - val_acc: 0.7736\n",
      "Epoch 2/50\n",
      "3309/3309 [==============================] - 5s 2ms/step - loss: 0.4956 - acc: 0.7658 - val_loss: 0.4407 - val_acc: 0.7962\n",
      "Epoch 3/50\n",
      "3309/3309 [==============================] - 5s 2ms/step - loss: 0.4370 - acc: 0.8045 - val_loss: 0.3992 - val_acc: 0.8342\n",
      "Epoch 4/50\n",
      "3309/3309 [==============================] - 5s 2ms/step - loss: 0.4134 - acc: 0.8208 - val_loss: 0.4086 - val_acc: 0.8043\n",
      "Epoch 5/50\n",
      "3309/3309 [==============================] - 5s 2ms/step - loss: 0.3846 - acc: 0.8347 - val_loss: 0.3734 - val_acc: 0.8478\n",
      "Epoch 6/50\n",
      "3309/3309 [==============================] - 5s 2ms/step - loss: 0.3824 - acc: 0.8362 - val_loss: 0.3830 - val_acc: 0.8433\n",
      "Epoch 7/50\n",
      "3309/3309 [==============================] - 5s 2ms/step - loss: 0.3580 - acc: 0.8492 - val_loss: 0.3442 - val_acc: 0.8370\n",
      "Epoch 8/50\n",
      "3309/3309 [==============================] - 5s 2ms/step - loss: 0.3438 - acc: 0.8531 - val_loss: 0.3940 - val_acc: 0.8351\n",
      "Epoch 9/50\n",
      "3309/3309 [==============================] - 5s 2ms/step - loss: 0.3359 - acc: 0.8531 - val_loss: 0.3658 - val_acc: 0.8478\n",
      "Epoch 10/50\n",
      "3309/3309 [==============================] - 5s 2ms/step - loss: 0.3098 - acc: 0.8713 - val_loss: 0.2866 - val_acc: 0.8741\n",
      "Epoch 11/50\n",
      "3309/3309 [==============================] - 5s 2ms/step - loss: 0.3034 - acc: 0.8655 - val_loss: 0.2981 - val_acc: 0.8687\n",
      "Epoch 12/50\n",
      "3309/3309 [==============================] - 5s 2ms/step - loss: 0.3062 - acc: 0.8791 - val_loss: 0.3073 - val_acc: 0.8741\n",
      "Epoch 13/50\n",
      "3309/3309 [==============================] - 5s 2ms/step - loss: 0.2829 - acc: 0.8785 - val_loss: 0.3236 - val_acc: 0.8514\n",
      "Epoch 14/50\n",
      "3309/3309 [==============================] - 5s 2ms/step - loss: 0.2907 - acc: 0.8776 - val_loss: 0.2698 - val_acc: 0.8795\n",
      "Epoch 15/50\n",
      "3309/3309 [==============================] - 5s 2ms/step - loss: 0.2664 - acc: 0.8879 - val_loss: 0.2679 - val_acc: 0.8777\n",
      "Epoch 16/50\n",
      "3309/3309 [==============================] - 5s 2ms/step - loss: 0.2589 - acc: 0.8864 - val_loss: 0.3363 - val_acc: 0.8569\n",
      "Epoch 17/50\n",
      "3309/3309 [==============================] - 5s 2ms/step - loss: 0.2614 - acc: 0.8855 - val_loss: 0.2678 - val_acc: 0.8822\n",
      "Epoch 18/50\n",
      "3309/3309 [==============================] - 5s 2ms/step - loss: 0.2629 - acc: 0.8858 - val_loss: 0.2439 - val_acc: 0.8895\n",
      "Epoch 19/50\n",
      "3309/3309 [==============================] - 5s 2ms/step - loss: 0.2317 - acc: 0.9048 - val_loss: 0.2978 - val_acc: 0.8723\n",
      "Epoch 20/50\n",
      "3309/3309 [==============================] - 5s 2ms/step - loss: 0.2492 - acc: 0.8985 - val_loss: 0.2978 - val_acc: 0.8678\n",
      "Epoch 21/50\n",
      "3309/3309 [==============================] - 5s 2ms/step - loss: 0.2446 - acc: 0.8930 - val_loss: 0.2483 - val_acc: 0.8868\n",
      "Epoch 22/50\n",
      "3309/3309 [==============================] - 5s 2ms/step - loss: 0.2459 - acc: 0.8936 - val_loss: 0.2434 - val_acc: 0.8958\n",
      "Epoch 23/50\n",
      "3309/3309 [==============================] - 5s 2ms/step - loss: 0.2203 - acc: 0.9087 - val_loss: 0.2414 - val_acc: 0.8940\n",
      "Epoch 24/50\n",
      "3309/3309 [==============================] - 5s 2ms/step - loss: 0.2236 - acc: 0.9069 - val_loss: 0.2351 - val_acc: 0.9004\n",
      "Epoch 25/50\n",
      "3309/3309 [==============================] - 5s 2ms/step - loss: 0.2292 - acc: 0.9042 - val_loss: 0.2521 - val_acc: 0.8895\n",
      "Epoch 26/50\n",
      "3309/3309 [==============================] - 5s 2ms/step - loss: 0.2248 - acc: 0.9039 - val_loss: 0.3183 - val_acc: 0.8822\n",
      "Epoch 27/50\n",
      "3309/3309 [==============================] - 5s 2ms/step - loss: 0.2241 - acc: 0.9012 - val_loss: 0.2592 - val_acc: 0.9013\n",
      "Epoch 28/50\n",
      "3309/3309 [==============================] - 5s 2ms/step - loss: 0.2121 - acc: 0.9214 - val_loss: 0.2072 - val_acc: 0.9076\n",
      "Epoch 29/50\n",
      "3309/3309 [==============================] - 5s 2ms/step - loss: 0.2152 - acc: 0.9124 - val_loss: 0.2155 - val_acc: 0.9085\n",
      "Epoch 30/50\n",
      "3309/3309 [==============================] - 5s 2ms/step - loss: 0.2173 - acc: 0.9112 - val_loss: 0.2312 - val_acc: 0.9094\n",
      "Epoch 31/50\n",
      "3309/3309 [==============================] - 5s 2ms/step - loss: 0.2022 - acc: 0.9139 - val_loss: 0.2309 - val_acc: 0.9112\n",
      "Epoch 32/50\n",
      "3309/3309 [==============================] - 5s 2ms/step - loss: 0.2198 - acc: 0.9093 - val_loss: 0.2192 - val_acc: 0.9103\n",
      "Epoch 33/50\n",
      "3309/3309 [==============================] - 5s 2ms/step - loss: 0.1956 - acc: 0.9181 - val_loss: 0.2650 - val_acc: 0.8895\n"
     ]
    },
    {
     "data": {
      "text/plain": [
       "<keras.callbacks.History at 0x7fb632feaef0>"
      ]
     },
     "execution_count": 14,
     "metadata": {},
     "output_type": "execute_result"
    }
   ],
   "source": [
    "model=getModel()\n",
    "model.fit(X_train_cv, y_train_cv,\n",
    "          batch_size=24,\n",
    "          epochs=50,\n",
    "          verbose=1,\n",
    "          validation_data=(X_valid, y_valid),\n",
    "          callbacks=callbacks)"
   ]
  },
  {
   "cell_type": "code",
   "execution_count": 15,
   "metadata": {},
   "outputs": [
    {
     "name": "stdout",
     "output_type": "stream",
     "text": [
      "1104/1104 [==============================] - 1s 605us/step\n",
      "Test score: 0.207176460736\n",
      "Test accuracy: 0.907608695652\n"
     ]
    }
   ],
   "source": [
    "model.load_weights(filepath=file_path)\n",
    "score = model.evaluate(X_valid, y_valid, verbose=1)\n",
    "print('Test score:', score[0])\n",
    "print('Test accuracy:', score[1])"
   ]
  },
  {
   "cell_type": "code",
   "execution_count": 16,
   "metadata": {},
   "outputs": [],
   "source": [
    "X_band_test_1=np.array([np.array(band).astype(np.float32).reshape(75, 75) for band in test[\"band_1\"]])\n",
    "X_band_test_2=np.array([np.array(band).astype(np.float32).reshape(75, 75) for band in test[\"band_2\"]])\n",
    "X_test = np.concatenate([X_band_test_1[:, :, :, np.newaxis]\n",
    "                          , X_band_test_2[:, :, :, np.newaxis]\n",
    "                         , ((X_band_test_1+X_band_test_2)/2)[:, :, :, np.newaxis]], axis=-1)\n",
    "predicted_test=model.predict_proba(X_test)"
   ]
  },
  {
   "cell_type": "code",
   "execution_count": null,
   "metadata": {},
   "outputs": [],
   "source": [
    "submission = pd.DataFrame()\n",
    "submission['id']=test['id']\n",
    "submission['is_iceberg']=predicted_test.reshape((predicted_test.shape[0]))\n",
    "submission.to_csv('sub_01.csv', index=False)"
   ]
  },
  {
   "cell_type": "markdown",
   "metadata": {},
   "source": [
    "Kaggle Score: 0.2129\n",
    "> Test score: 0.219383673176\n",
    "> Test accuracy: 0.904891304348"
   ]
  },
  {
   "cell_type": "code",
   "execution_count": null,
   "metadata": {},
   "outputs": [],
   "source": []
  }
 ],
 "metadata": {
  "kernelspec": {
   "display_name": "Python 3",
   "language": "python",
   "name": "python3"
  },
  "language_info": {
   "codemirror_mode": {
    "name": "ipython",
    "version": 3
   },
   "file_extension": ".py",
   "mimetype": "text/x-python",
   "name": "python",
   "nbconvert_exporter": "python",
   "pygments_lexer": "ipython3",
   "version": "3.5.2"
  }
 },
 "nbformat": 4,
 "nbformat_minor": 2
}
