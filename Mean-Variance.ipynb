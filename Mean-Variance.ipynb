{
 "cells": [
  {
   "cell_type": "code",
   "execution_count": 1,
   "metadata": {
    "collapsed": true
   },
   "outputs": [],
   "source": [
    "import numpy as np\n",
    "import matplotlib.pyplot as plt\n",
    "\n"
   ]
  },
  {
   "cell_type": "markdown",
   "metadata": {},
   "source": [
    "# SGD"
   ]
  },
  {
   "cell_type": "code",
   "execution_count": 2,
   "metadata": {
    "collapsed": true
   },
   "outputs": [],
   "source": [
    "k3 = [\n",
    "    0.927102805521,\n",
    "    0.934579440589, \n",
    "    0.902621723293]"
   ]
  },
  {
   "cell_type": "code",
   "execution_count": 3,
   "metadata": {
    "collapsed": true
   },
   "outputs": [],
   "source": [
    "k3_lr2 = [\n",
    "    0.530841121495, \n",
    "    0.469158878505,\n",
    "    0.529962546816]"
   ]
  },
  {
   "cell_type": "code",
   "execution_count": 4,
   "metadata": {
    "collapsed": true
   },
   "outputs": [],
   "source": [
    "k3_lr3e = [\n",
    "    0.927102805521, \n",
    "    0.928971963508,\n",
    "    0.893258427413]"
   ]
  },
  {
   "cell_type": "code",
   "execution_count": 5,
   "metadata": {
    "collapsed": true
   },
   "outputs": [],
   "source": [
    "k5 = [\n",
    "    0.866459627329, \n",
    "    0.931464174455, \n",
    "    0.956386292835, \n",
    "    0.903125, \n",
    "    0.86875]"
   ]
  },
  {
   "cell_type": "code",
   "execution_count": 6,
   "metadata": {
    "collapsed": true
   },
   "outputs": [],
   "source": [
    "k7 = [\n",
    "    0.926086956522,\n",
    "    0.934782608955,\n",
    "    0.921739130435,\n",
    "    0.960869565736,\n",
    "    0.899122807018,\n",
    "    0.899122807018,\n",
    "    0.912280701754,]"
   ]
  },
  {
   "cell_type": "code",
   "execution_count": 7,
   "metadata": {
    "collapsed": true
   },
   "outputs": [],
   "source": [
    "k10 = [\n",
    "    0.938271604938,\n",
    "    0.95652173913,\n",
    "    0.913043478261,\n",
    "    0.91875,\n",
    "    0.94375,\n",
    "    0.9375,\n",
    "    0.90625,\n",
    "    0.925,\n",
    "    0.875,\n",
    "    0.9125]"
   ]
  },
  {
   "cell_type": "code",
   "execution_count": 8,
   "metadata": {
    "collapsed": true
   },
   "outputs": [],
   "source": [
    "sgd_k10_3e_15p = [\n",
    "    0.91975308642,\n",
    "    0.925465838509,\n",
    "    0.931677018634,\n",
    "    0.90625,\n",
    "    0.9625,\n",
    "    0.94375,\n",
    "    0.89375,\n",
    "    0.93125,\n",
    "    0.8375,\n",
    "    0.925]"
   ]
  },
  {
   "cell_type": "code",
   "execution_count": 9,
   "metadata": {
    "collapsed": true
   },
   "outputs": [],
   "source": [
    "sgd_k10_3e_20p = [\n",
    "    0.901234567901,\n",
    "    0.950310559006,\n",
    "    0.913043478261,\n",
    "    0.9125,\n",
    "    0.95625,\n",
    "    0.9375,\n",
    "    0.9,\n",
    "    0.93125,\n",
    "    0.8375,\n",
    "    0.93125]"
   ]
  },
  {
   "cell_type": "markdown",
   "metadata": {},
   "source": [
    "## Mean & Variance\n",
    "### k=3"
   ]
  },
  {
   "cell_type": "code",
   "execution_count": 10,
   "metadata": {},
   "outputs": [
    {
     "name": "stdout",
     "output_type": "stream",
     "text": [
      "0.9214346564676666\n"
     ]
    }
   ],
   "source": [
    "print (np.mean(k3))"
   ]
  },
  {
   "cell_type": "code",
   "execution_count": 11,
   "metadata": {},
   "outputs": [
    {
     "name": "stdout",
     "output_type": "stream",
     "text": [
      "0.00018627990597391204\n"
     ]
    }
   ],
   "source": [
    "print (np.var(k3))"
   ]
  },
  {
   "cell_type": "markdown",
   "metadata": {},
   "source": [
    "## k=3, lr = 1e-2"
   ]
  },
  {
   "cell_type": "code",
   "execution_count": 12,
   "metadata": {},
   "outputs": [
    {
     "name": "stdout",
     "output_type": "stream",
     "text": [
      "0.5099875156053333\n"
     ]
    }
   ],
   "source": [
    "print (np.mean(k3_lr2))"
   ]
  },
  {
   "cell_type": "markdown",
   "metadata": {},
   "source": [
    "## k=3, lr=3e-4"
   ]
  },
  {
   "cell_type": "code",
   "execution_count": 13,
   "metadata": {},
   "outputs": [
    {
     "name": "stdout",
     "output_type": "stream",
     "text": [
      "0.916444398814\n"
     ]
    }
   ],
   "source": [
    "print (np.mean(k3_lr3e))"
   ]
  },
  {
   "cell_type": "markdown",
   "metadata": {},
   "source": [
    "### k=5"
   ]
  },
  {
   "cell_type": "code",
   "execution_count": 14,
   "metadata": {},
   "outputs": [
    {
     "name": "stdout",
     "output_type": "stream",
     "text": [
      "0.9052370189238002\n"
     ]
    }
   ],
   "source": [
    "print (np.mean(k5))"
   ]
  },
  {
   "cell_type": "code",
   "execution_count": 15,
   "metadata": {},
   "outputs": [
    {
     "name": "stdout",
     "output_type": "stream",
     "text": [
      "0.0012287122363354827\n"
     ]
    }
   ],
   "source": [
    "print (np.var(k5))"
   ]
  },
  {
   "cell_type": "markdown",
   "metadata": {},
   "source": [
    "### k=7"
   ]
  },
  {
   "cell_type": "code",
   "execution_count": 16,
   "metadata": {},
   "outputs": [
    {
     "name": "stdout",
     "output_type": "stream",
     "text": [
      "0.9220006539197143\n"
     ]
    }
   ],
   "source": [
    "print (np.mean(k7))"
   ]
  },
  {
   "cell_type": "code",
   "execution_count": 17,
   "metadata": {},
   "outputs": [
    {
     "name": "stdout",
     "output_type": "stream",
     "text": [
      "0.0004046008816595857\n"
     ]
    }
   ],
   "source": [
    "print (np.var(k7))"
   ]
  },
  {
   "cell_type": "markdown",
   "metadata": {},
   "source": [
    "### k=10"
   ]
  },
  {
   "cell_type": "code",
   "execution_count": 18,
   "metadata": {},
   "outputs": [
    {
     "name": "stdout",
     "output_type": "stream",
     "text": [
      "0.9226586822328999\n"
     ]
    }
   ],
   "source": [
    "print (np.mean(k10))"
   ]
  },
  {
   "cell_type": "code",
   "execution_count": 19,
   "metadata": {},
   "outputs": [
    {
     "name": "stdout",
     "output_type": "stream",
     "text": [
      "0.00048125837586399214\n"
     ]
    }
   ],
   "source": [
    "print (np.var(k10))"
   ]
  },
  {
   "cell_type": "markdown",
   "metadata": {},
   "source": [
    "## 3e-4, 15p"
   ]
  },
  {
   "cell_type": "code",
   "execution_count": 20,
   "metadata": {},
   "outputs": [
    {
     "name": "stdout",
     "output_type": "stream",
     "text": [
      "0.9176895943563\n"
     ]
    }
   ],
   "source": [
    "print (np.mean(sgd_k10_3e_15p))"
   ]
  },
  {
   "cell_type": "markdown",
   "metadata": {},
   "source": [
    "## 3e-4, 15p"
   ]
  },
  {
   "cell_type": "code",
   "execution_count": 21,
   "metadata": {},
   "outputs": [
    {
     "name": "stdout",
     "output_type": "stream",
     "text": [
      "0.9170838605168001\n"
     ]
    }
   ],
   "source": [
    "print (np.mean(sgd_k10_3e_20p))"
   ]
  },
  {
   "cell_type": "markdown",
   "metadata": {},
   "source": [
    "# Adam"
   ]
  },
  {
   "cell_type": "code",
   "execution_count": 22,
   "metadata": {
    "collapsed": true
   },
   "outputs": [],
   "source": [
    "Adam_k3_without_amsgrad = [\n",
    "    0.530841121495,\n",
    "    0.530841121495, \n",
    "    0.529962546816]"
   ]
  },
  {
   "cell_type": "code",
   "execution_count": 23,
   "metadata": {
    "collapsed": true
   },
   "outputs": [],
   "source": [
    "Adam_k3 = [\n",
    "    0.934579441035,\n",
    "    0.934579440144, \n",
    "    0.898876406727]"
   ]
  },
  {
   "cell_type": "code",
   "execution_count": 24,
   "metadata": {
    "collapsed": true
   },
   "outputs": [],
   "source": [
    "Adam_k10 = [\n",
    "    0.901234567901,\n",
    "    0.937888198758,\n",
    "    0.925465838509,\n",
    "    0.925,\n",
    "    0.9625,\n",
    "    0.94375,\n",
    "    0.89375,\n",
    "    0.93125,\n",
    "    0.8625,\n",
    "    0.93125]"
   ]
  },
  {
   "cell_type": "code",
   "execution_count": 25,
   "metadata": {
    "collapsed": true
   },
   "outputs": [],
   "source": [
    "Adam_k10_1e = [\n",
    "    0.913580246914,\n",
    "    0.925465838509,\n",
    "    0.937888198758,\n",
    "    0.8875,\n",
    "    0.9625,\n",
    "    0.93125,\n",
    "    0.8875,\n",
    "    0.91875,\n",
    "    0.84375,\n",
    "    0.93125]"
   ]
  },
  {
   "cell_type": "code",
   "execution_count": 26,
   "metadata": {
    "collapsed": true
   },
   "outputs": [],
   "source": [
    "Adam_k10_0001 = [\n",
    "    0.925925925926,\n",
    "    0.937888198758,\n",
    "    0.919254658385,\n",
    "    0.9125,\n",
    "    0.94375,\n",
    "    0.94375,\n",
    "    0.925,\n",
    "    0.94375,\n",
    "    0.86875,\n",
    "    0.91875]"
   ]
  },
  {
   "cell_type": "code",
   "execution_count": 27,
   "metadata": {
    "collapsed": true
   },
   "outputs": [],
   "source": [
    "Adam_k3_0001_15p = [\n",
    "    0.925925925926,\n",
    "    0.950310559006,\n",
    "    0.913043478261,\n",
    "    0.93125,\n",
    "    0.95,\n",
    "    0.9625,\n",
    "    0.9,\n",
    "    0.9625,\n",
    "    0.85625,\n",
    "    0.9375]"
   ]
  },
  {
   "cell_type": "code",
   "execution_count": 28,
   "metadata": {
    "collapsed": true
   },
   "outputs": [],
   "source": [
    "Adam_k3_0001_15p_3rd = [\n",
    "    0.944444444444,\n",
    "    0.95652173913,\n",
    "    0.931677018634,\n",
    "    0.925,\n",
    "    0.9625,\n",
    "    0.95,\n",
    "    0.9,\n",
    "    0.925,\n",
    "    0.86875,\n",
    "    0.925]"
   ]
  },
  {
   "cell_type": "code",
   "execution_count": 29,
   "metadata": {
    "collapsed": true
   },
   "outputs": [],
   "source": [
    "Adam_k10_0001_20p = [\n",
    "    0.91975308642,\n",
    "    0.95652173913,\n",
    "    0.931677018634,\n",
    "    0.925,\n",
    "    0.95,\n",
    "    0.95,\n",
    "    0.91875,\n",
    "    0.9375,\n",
    "    0.86875,\n",
    "    0.9125]"
   ]
  },
  {
   "cell_type": "code",
   "execution_count": 30,
   "metadata": {
    "collapsed": true
   },
   "outputs": [],
   "source": [
    "Adam_k10_0001_25p = [\n",
    "    0.925925925926,\n",
    "    0.937888198758,\n",
    "    0.944099378882,\n",
    "    0.93125,\n",
    "    0.95,\n",
    "    0.94375,\n",
    "    0.89375,\n",
    "    0.95,\n",
    "    0.84375,\n",
    "    0.93125]"
   ]
  },
  {
   "cell_type": "code",
   "execution_count": 31,
   "metadata": {
    "collapsed": true
   },
   "outputs": [],
   "source": [
    "Adam_k10_0001_30p = [\n",
    "    0.932098765432,\n",
    "    0.95652173913,\n",
    "    0.919254658385,\n",
    "    0.9125,\n",
    "    0.9625,\n",
    "    0.94375,\n",
    "    0.9125,\n",
    "    0.95625,\n",
    "    0.825,\n",
    "    0.91875]"
   ]
  },
  {
   "cell_type": "code",
   "execution_count": 32,
   "metadata": {
    "collapsed": true
   },
   "outputs": [],
   "source": [
    "Adam_k3_0001_10p = [\n",
    "    0.921495328885,\n",
    "    0.928971964399,\n",
    "    0.898876406057]"
   ]
  },
  {
   "cell_type": "code",
   "execution_count": 33,
   "metadata": {
    "collapsed": true
   },
   "outputs": [],
   "source": [
    "Adam_k3_0001_20p = [\n",
    "    0.921495328885,\n",
    "    0.934579440144,\n",
    "    0.889513109061]"
   ]
  },
  {
   "cell_type": "code",
   "execution_count": 34,
   "metadata": {
    "collapsed": true
   },
   "outputs": [],
   "source": [
    "Adam_k5_0001_10p = [\n",
    "    0.931677018634,\n",
    "    0.922118380062,\n",
    "    0.940809968847,\n",
    "    0.9125,\n",
    "    0.884375]"
   ]
  },
  {
   "cell_type": "code",
   "execution_count": 35,
   "metadata": {
    "collapsed": true
   },
   "outputs": [],
   "source": [
    "Adam_k7_0001_10p = [\n",
    "    0.939130434783,\n",
    "    0.930434783645,\n",
    "    0.939130434783,\n",
    "    0.960869565736,\n",
    "    0.855263157895,\n",
    "    0.899122807018,\n",
    "    0.868421052632]"
   ]
  },
  {
   "cell_type": "code",
   "execution_count": 36,
   "metadata": {
    "collapsed": true
   },
   "outputs": [],
   "source": [
    "Adam_k7_0001_20p = [\n",
    "    0.94347826087,\n",
    "    0.934782608696,\n",
    "    0.930434783645,\n",
    "    0.965217391823,\n",
    "    0.921052631579,\n",
    "    0.907894736842,\n",
    "    0.890350877193]"
   ]
  },
  {
   "cell_type": "code",
   "execution_count": 37,
   "metadata": {
    "collapsed": true
   },
   "outputs": [],
   "source": [
    "Adam_k10_00001_10p = [\n",
    "    0.913580246914,\n",
    "    0.913043478261,\n",
    "    0.944099378882,\n",
    "    0.91875,\n",
    "    0.96875,\n",
    "    0.93125,\n",
    "    0.9,\n",
    "    0.906255,\n",
    "    0.85,\n",
    "    0.91875]"
   ]
  },
  {
   "cell_type": "markdown",
   "metadata": {},
   "source": [
    "## k=3 without amsgrad"
   ]
  },
  {
   "cell_type": "code",
   "execution_count": 38,
   "metadata": {},
   "outputs": [
    {
     "name": "stdout",
     "output_type": "stream",
     "text": [
      "0.5305482632686666\n"
     ]
    }
   ],
   "source": [
    "print (np.mean(Adam_k3_without_amsgrad))"
   ]
  },
  {
   "cell_type": "markdown",
   "metadata": {},
   "source": [
    "## k=3\n",
    "\n",
    "Train Log Loss Validation=  0.138096021399\n",
    "\n",
    "Test Log Loss Validation=  0.20165806206"
   ]
  },
  {
   "cell_type": "code",
   "execution_count": 39,
   "metadata": {},
   "outputs": [
    {
     "name": "stdout",
     "output_type": "stream",
     "text": [
      "0.9226784293020001\n"
     ]
    }
   ],
   "source": [
    "print (np.mean(Adam_k3))"
   ]
  },
  {
   "cell_type": "markdown",
   "metadata": {},
   "source": [
    "## k=10, lr=0.01\n",
    "\n",
    "Train Log Loss Validation=  0.14229989114\n",
    "\n",
    "Test Log Loss Validation=  0.192718129101"
   ]
  },
  {
   "cell_type": "code",
   "execution_count": 40,
   "metadata": {},
   "outputs": [
    {
     "name": "stdout",
     "output_type": "stream",
     "text": [
      "0.9214588605168\n"
     ]
    }
   ],
   "source": [
    "print (np.mean(Adam_k10))"
   ]
  },
  {
   "cell_type": "markdown",
   "metadata": {},
   "source": [
    "## k=10, lr=1e-3"
   ]
  },
  {
   "cell_type": "code",
   "execution_count": 41,
   "metadata": {},
   "outputs": [
    {
     "name": "stdout",
     "output_type": "stream",
     "text": [
      "0.9139434284181001\n"
     ]
    }
   ],
   "source": [
    "print (np.mean(Adam_k10_1e))"
   ]
  },
  {
   "cell_type": "markdown",
   "metadata": {},
   "source": [
    "## k=10, lr=0.0001, patience=10\n",
    "Train Log Loss Validation=  0.117314350908\n",
    "\n",
    "Test Log Loss Validation=  0.181701044989"
   ]
  },
  {
   "cell_type": "code",
   "execution_count": 42,
   "metadata": {},
   "outputs": [
    {
     "name": "stdout",
     "output_type": "stream",
     "text": [
      "0.9239318783068999\n"
     ]
    }
   ],
   "source": [
    "print (np.mean(Adam_k10_0001))"
   ]
  },
  {
   "cell_type": "markdown",
   "metadata": {},
   "source": [
    "## k=10, lr=0.0001, patience=15\n",
    "Train Log Loss Validation=  0.123066677223\n",
    "\n",
    "Test Log Loss Validation=  0.178947531537"
   ]
  },
  {
   "cell_type": "code",
   "execution_count": 43,
   "metadata": {},
   "outputs": [
    {
     "name": "stdout",
     "output_type": "stream",
     "text": [
      "0.9289279963193\n"
     ]
    }
   ],
   "source": [
    "print (np.mean(Adam_k3_0001_15p))"
   ]
  },
  {
   "cell_type": "code",
   "execution_count": 44,
   "metadata": {},
   "outputs": [
    {
     "name": "stdout",
     "output_type": "stream",
     "text": [
      "0.0009614523597267493\n"
     ]
    }
   ],
   "source": [
    "print (np.var(Adam_k3_0001_15p))"
   ]
  },
  {
   "cell_type": "markdown",
   "metadata": {},
   "source": [
    "## k=10, lr=0.0001, patience=15\n",
    "Train Log Loss Validation=  0.107999644928\n",
    "\n",
    "Test Log Loss Validation=  0.174257478678"
   ]
  },
  {
   "cell_type": "code",
   "execution_count": 45,
   "metadata": {},
   "outputs": [
    {
     "name": "stdout",
     "output_type": "stream",
     "text": [
      "0.9288893202208002\n"
     ]
    }
   ],
   "source": [
    "print (np.mean(Adam_k3_0001_15p_3rd))"
   ]
  },
  {
   "cell_type": "markdown",
   "metadata": {},
   "source": [
    "## k=10, lr=0.0001, patience=20\n",
    "Train Log Loss Validation=  0.10150099855\n",
    "\n",
    "Test Log Loss Validation=  0.179240771208"
   ]
  },
  {
   "cell_type": "code",
   "execution_count": 46,
   "metadata": {},
   "outputs": [
    {
     "name": "stdout",
     "output_type": "stream",
     "text": [
      "0.9270451844183999\n"
     ]
    }
   ],
   "source": [
    "print (np.mean(Adam_k10_0001_20p))"
   ]
  },
  {
   "cell_type": "code",
   "execution_count": 47,
   "metadata": {},
   "outputs": [
    {
     "name": "stdout",
     "output_type": "stream",
     "text": [
      "0.0005789529924681881\n"
     ]
    }
   ],
   "source": [
    "print (np.var(Adam_k10_0001_20p))"
   ]
  },
  {
   "cell_type": "markdown",
   "metadata": {},
   "source": [
    "## k=10, lr=0.0001, patience=25\n",
    "Train Log Loss Validation=  0.11924128702\n",
    "\n",
    "Test Log Loss Validation=  0.183048155108"
   ]
  },
  {
   "cell_type": "code",
   "execution_count": 48,
   "metadata": {},
   "outputs": [
    {
     "name": "stdout",
     "output_type": "stream",
     "text": [
      "0.9251663503566\n"
     ]
    }
   ],
   "source": [
    "print (np.mean(Adam_k10_0001_25p))"
   ]
  },
  {
   "cell_type": "markdown",
   "metadata": {},
   "source": [
    "## k=10, lr=0.0001, patience=30\n",
    "Train Log Loss Validation=  0.112609400652\n",
    "\n",
    "Test Log Loss Validation=  0.179382493428"
   ]
  },
  {
   "cell_type": "code",
   "execution_count": 49,
   "metadata": {},
   "outputs": [
    {
     "name": "stdout",
     "output_type": "stream",
     "text": [
      "0.9239125162947\n"
     ]
    }
   ],
   "source": [
    "print (np.mean(Adam_k10_0001_30p))"
   ]
  },
  {
   "cell_type": "markdown",
   "metadata": {},
   "source": [
    "## k=3, lr=0.0001, patience=10\n",
    "Train Log Loss Validation=  0.13753373181\n",
    "\n",
    "Test Log Loss Validation=  0.208624429906"
   ]
  },
  {
   "cell_type": "code",
   "execution_count": 50,
   "metadata": {},
   "outputs": [
    {
     "name": "stdout",
     "output_type": "stream",
     "text": [
      "0.9164478997803333\n"
     ]
    }
   ],
   "source": [
    "print (np.mean(Adam_k3_0001_10p))"
   ]
  },
  {
   "cell_type": "markdown",
   "metadata": {},
   "source": [
    "## k=3, lr=0.0001, patience=20\n",
    "Train Log Loss Validation=  0.129660983034\n",
    " \n",
    "Test Log Loss Validation=  0.207979759447"
   ]
  },
  {
   "cell_type": "code",
   "execution_count": 51,
   "metadata": {},
   "outputs": [
    {
     "name": "stdout",
     "output_type": "stream",
     "text": [
      "0.9151959593633334\n"
     ]
    }
   ],
   "source": [
    "print (np.mean(Adam_k3_0001_20p))"
   ]
  },
  {
   "cell_type": "markdown",
   "metadata": {},
   "source": [
    "## k=5, lr=0.0001, patience=10\n",
    "Test Log Loss Validation=  0.196969180077"
   ]
  },
  {
   "cell_type": "code",
   "execution_count": 52,
   "metadata": {},
   "outputs": [
    {
     "name": "stdout",
     "output_type": "stream",
     "text": [
      "0.9182960735086001\n"
     ]
    }
   ],
   "source": [
    "print (np.mean(Adam_k5_0001_10p))"
   ]
  },
  {
   "cell_type": "markdown",
   "metadata": {},
   "source": [
    "## k=7, lr=0.0001, patience=10\n",
    "Train Log Loss Validation=  0.13456575273\n",
    "\n",
    "Test Log Loss Validation=  0.204074223575"
   ]
  },
  {
   "cell_type": "code",
   "execution_count": 53,
   "metadata": {},
   "outputs": [
    {
     "name": "stdout",
     "output_type": "stream",
     "text": [
      "0.9131960337845714\n"
     ]
    }
   ],
   "source": [
    "print (np.mean(Adam_k7_0001_10p))"
   ]
  },
  {
   "cell_type": "markdown",
   "metadata": {},
   "source": [
    "## k=7, lr=0.0001, patience=20\n",
    "Train Log Loss Validation=  0.113610347708\n",
    "\n",
    "Test Log Loss Validation=  0.193107086096"
   ]
  },
  {
   "cell_type": "code",
   "execution_count": 54,
   "metadata": {},
   "outputs": [
    {
     "name": "stdout",
     "output_type": "stream",
     "text": [
      "0.9276016129497142\n"
     ]
    }
   ],
   "source": [
    "print (np.mean(Adam_k7_0001_20p))"
   ]
  },
  {
   "cell_type": "markdown",
   "metadata": {},
   "source": [
    "## k=10, lr=0.0001, patience=10\n",
    "\n",
    "Train Log Loss Validation=  0.124790371608\n",
    "\n",
    "Test Log Loss Validation=  0.213980056827"
   ]
  },
  {
   "cell_type": "code",
   "execution_count": 55,
   "metadata": {},
   "outputs": [
    {
     "name": "stdout",
     "output_type": "stream",
     "text": [
      "0.9164478104056999\n"
     ]
    }
   ],
   "source": [
    "print (np.mean(Adam_k10_00001_10p))"
   ]
  },
  {
   "cell_type": "markdown",
   "metadata": {},
   "source": [
    "# Adadelta"
   ]
  },
  {
   "cell_type": "code",
   "execution_count": 56,
   "metadata": {
    "collapsed": true
   },
   "outputs": [],
   "source": [
    "Adadelta_k10 = [\n",
    "    0.901234567901,\n",
    "    0.888198757764,\n",
    "    0.900621118012,\n",
    "    0.91875,\n",
    "    0.975,\n",
    "    0.91875,\n",
    "    0.85625,\n",
    "    0.91875,\n",
    "    0.85,\n",
    "    0.90625]"
   ]
  },
  {
   "cell_type": "markdown",
   "metadata": {},
   "source": [
    "## k=10\n",
    "Train Log Loss Validation=  0.193596459305\n",
    "\n",
    "Test Log Loss Validation=  0.236750899909"
   ]
  },
  {
   "cell_type": "code",
   "execution_count": 57,
   "metadata": {},
   "outputs": [
    {
     "name": "stdout",
     "output_type": "stream",
     "text": [
      "0.9033804443676999\n"
     ]
    }
   ],
   "source": [
    "print (np.mean(Adadelta_k10))"
   ]
  },
  {
   "cell_type": "markdown",
   "metadata": {},
   "source": [
    "# Adamax"
   ]
  },
  {
   "cell_type": "code",
   "execution_count": 58,
   "metadata": {
    "collapsed": true
   },
   "outputs": [],
   "source": [
    "Adamax_k3 = [\n",
    "    0.530841121495,\n",
    "    0.904494384255,\n",
    "    0.927102805967]"
   ]
  },
  {
   "cell_type": "code",
   "execution_count": 59,
   "metadata": {
    "collapsed": true
   },
   "outputs": [],
   "source": [
    "Adamax_k10 = [\n",
    "    0.530864197531,\n",
    "    0.937888198758,\n",
    "    0.937888198758,\n",
    "    0.9375,\n",
    "    0.53125,\n",
    "    0.9375,\n",
    "    0.9125,\n",
    "    0.9375,\n",
    "    0.53125,\n",
    "    0.925]"
   ]
  },
  {
   "cell_type": "markdown",
   "metadata": {},
   "source": [
    "## k=3"
   ]
  },
  {
   "cell_type": "code",
   "execution_count": 60,
   "metadata": {},
   "outputs": [
    {
     "name": "stdout",
     "output_type": "stream",
     "text": [
      "0.7874794372389999\n"
     ]
    }
   ],
   "source": [
    "print (np.mean(Adamax_k3))"
   ]
  },
  {
   "cell_type": "markdown",
   "metadata": {},
   "source": [
    "## k=10\n",
    "\n",
    "Train Log Loss Validation=  0.271070528743\n",
    "\n",
    "Test Log Loss Validation=  3.42418115748"
   ]
  },
  {
   "cell_type": "code",
   "execution_count": 61,
   "metadata": {},
   "outputs": [
    {
     "name": "stdout",
     "output_type": "stream",
     "text": [
      "0.8119140595047\n"
     ]
    }
   ],
   "source": [
    "print (np.mean(Adamax_k10))"
   ]
  },
  {
   "cell_type": "markdown",
   "metadata": {},
   "source": [
    "---"
   ]
  },
  {
   "cell_type": "markdown",
   "metadata": {},
   "source": [
    "# Compare"
   ]
  },
  {
   "cell_type": "code",
   "execution_count": 62,
   "metadata": {},
   "outputs": [
    {
     "data": {
      "image/png": "[encoded data removed]",
      "text/plain": [
       "<matplotlib.figure.Figure at 0x1125f37f0>"
      ]
     },
     "metadata": {},
     "output_type": "display_data"
    }
   ],
   "source": [
    "x = [1, 2, 3, 4]\n",
    "y = [0.811914059505, 0.903380444368, 0.921458860517, 0.922658682233]\n",
    "labels = ['Adamax', 'Adadelta', 'Adam', 'SGD']\n",
    "\n",
    "plt.title('model accuracy')\n",
    "plt.ylabel('accuracy')\n",
    "plt.xlabel('optimizer')\n",
    "\n",
    "plt.plot(x, y, 'ro')\n",
    "# You can specify a rotation for the tick labels in degrees or with keywords.\n",
    "plt.xticks(x, labels, rotation='vertical')\n",
    "# Pad margins so that markers don't get clipped by the axes\n",
    "plt.margins(0.2)\n",
    "# Tweak spacing to prevent clipping of tick-labels\n",
    "plt.subplots_adjust(bottom=0.15)\n",
    "plt.show()"
   ]
  },
  {
   "cell_type": "code",
   "execution_count": 63,
   "metadata": {},
   "outputs": [
    {
     "data": {
      "image/png": "[encoded data removed]",
      "text/plain": [
       "<matplotlib.figure.Figure at 0x1125f3710>"
      ]
     },
     "metadata": {},
     "output_type": "display_data"
    }
   ],
   "source": [
    "x = [1, 2, 3, 4]\n",
    "y = [3.42418115748, 0.236750899909, 0.192718129101, 0.193213699335]\n",
    "labels = ['Adamax', 'Adadelta', 'Adam', 'SGD']\n",
    "\n",
    "plt.title('model accuracy')\n",
    "plt.ylabel('accuracy')\n",
    "plt.xlabel('optimizer')\n",
    "\n",
    "plt.plot(x, y, 'ro')\n",
    "# You can specify a rotation for the tick labels in degrees or with keywords.\n",
    "plt.xticks(x, labels, rotation='vertical')\n",
    "# Pad margins so that markers don't get clipped by the axes\n",
    "plt.margins(0.2)\n",
    "# Tweak spacing to prevent clipping of tick-labels\n",
    "plt.subplots_adjust(bottom=0.15)\n",
    "plt.show()"
   ]
  },
  {
   "cell_type": "code",
   "execution_count": 64,
   "metadata": {},
   "outputs": [
    {
     "data": {
      "image/png": "[encoded data removed]",
      "text/plain": [
       "<matplotlib.figure.Figure at 0x1125f35f8>"
      ]
     },
     "metadata": {},
     "output_type": "display_data"
    }
   ],
   "source": [
    "x = [1, 2]\n",
    "y = [0.921458860517, 0.922658682233]\n",
    "labels = ['Adam', 'SGD']\n",
    "\n",
    "plt.title('model accuracy')\n",
    "plt.ylabel('accuracy')\n",
    "plt.xlabel('optimizer')\n",
    "\n",
    "plt.plot(x, y, 'ro')\n",
    "# You can specify a rotation for the tick labels in degrees or with keywords.\n",
    "plt.xticks(x, labels, rotation='vertical')\n",
    "# Pad margins so that markers don't get clipped by the axes\n",
    "plt.margins(0.2)\n",
    "# Tweak spacing to prevent clipping of tick-labels\n",
    "plt.subplots_adjust(bottom=0.15)\n",
    "plt.show()"
   ]
  },
  {
   "cell_type": "code",
   "execution_count": 65,
   "metadata": {},
   "outputs": [
    {
     "data": {
      "image/png": "[encoded data removed]",
      "text/plain": [
       "<matplotlib.figure.Figure at 0x112891898>"
      ]
     },
     "metadata": {},
     "output_type": "display_data"
    }
   ],
   "source": [
    "x = [1, 2, 3]\n",
    "y = [ 0.236750899909, 0.192718129101, 0.193213699335]\n",
    "labels = ['Adadelta', 'Adam', 'SGD']\n",
    "\n",
    "plt.title('log loss validation')\n",
    "plt.ylabel('loss validation')\n",
    "plt.xlabel('optimizer')\n",
    "\n",
    "plt.plot(x, y, 'ro')\n",
    "# You can specify a rotation for the tick labels in degrees or with keywords.\n",
    "plt.xticks(x, labels, rotation='vertical')\n",
    "# Pad margins so that markers don't get clipped by the axes\n",
    "plt.margins(0.2)\n",
    "# Tweak spacing to prevent clipping of tick-labels\n",
    "plt.subplots_adjust(bottom=0.15)\n",
    "plt.show()"
   ]
  },
  {
   "cell_type": "code",
   "execution_count": 66,
   "metadata": {},
   "outputs": [
    {
     "data": {
      "image/png": "[encoded data removed]",
      "text/plain": [
       "<matplotlib.figure.Figure at 0x1125dce48>"
      ]
     },
     "metadata": {},
     "output_type": "display_data"
    }
   ],
   "source": [
    "x = [1, 2]\n",
    "y = [0.192718129101, 0.193213699335]\n",
    "labels = ['Adam', 'SGD']\n",
    "\n",
    "plt.title('log loss validation')\n",
    "plt.ylabel('log loss score')\n",
    "plt.xlabel('optimizer')\n",
    "\n",
    "plt.plot(x, y, 'ro')\n",
    "# You can specify a rotation for the tick labels in degrees or with keywords.\n",
    "plt.xticks(x, labels, rotation='vertical')\n",
    "# Pad margins so that markers don't get clipped by the axes\n",
    "plt.margins(0.2)\n",
    "# Tweak spacing to prevent clipping of tick-labels\n",
    "plt.subplots_adjust(bottom=0.15)\n",
    "plt.show()"
   ]
  },
  {
   "cell_type": "markdown",
   "metadata": {},
   "source": [
    "## Learning rate = 1e-3"
   ]
  },
  {
   "cell_type": "code",
   "execution_count": 67,
   "metadata": {},
   "outputs": [
    {
     "data": {
      "image/png": "[encoded data removed]",
      "text/plain": [
       "<matplotlib.figure.Figure at 0x1125f34a8>"
      ]
     },
     "metadata": {},
     "output_type": "display_data"
    }
   ],
   "source": [
    "x = [1, 2, 3, 4]\n",
    "y = [3.42418115748, 0.236750899909, 0.211348751952, 0.193213699335]\n",
    "labels = ['Adamax', 'Adadelta', 'Adam', 'SGD']\n",
    "\n",
    "plt.title('Log loss validation')\n",
    "plt.ylabel('Log loss score')\n",
    "plt.xlabel('Optimizer')\n",
    "\n",
    "plt.plot(x, y, 'ro')\n",
    "# You can specify a rotation for the tick labels in degrees or with keywords.\n",
    "plt.xticks(x, labels, rotation='vertical')\n",
    "# Pad margins so that markers don't get clipped by the axes\n",
    "plt.margins(0.2)\n",
    "# Tweak spacing to prevent clipping of tick-labels\n",
    "plt.subplots_adjust(bottom=0.15)\n",
    "plt.show()"
   ]
  },
  {
   "cell_type": "code",
   "execution_count": 68,
   "metadata": {},
   "outputs": [
    {
     "data": {
      "image/png": "[encoded data removed]",
      "text/plain": [
       "<matplotlib.figure.Figure at 0x112a3f0f0>"
      ]
     },
     "metadata": {},
     "output_type": "display_data"
    }
   ],
   "source": [
    "x = [1, 2, 3]\n",
    "y = [0.236750899909, 0.211348751952, 0.193213699335]\n",
    "labels = ['Adadelta', 'Adam', 'SGD']\n",
    "\n",
    "plt.title('Log loss validation')\n",
    "plt.ylabel('Log loss score')\n",
    "plt.xlabel('Optimizer')\n",
    "\n",
    "plt.plot(x, y, 'ro')\n",
    "# You can specify a rotation for the tick labels in degrees or with keywords.\n",
    "plt.xticks(x, labels, rotation='vertical')\n",
    "# Pad margins so that markers don't get clipped by the axes\n",
    "plt.margins(0.2)\n",
    "# Tweak spacing to prevent clipping of tick-labels\n",
    "plt.subplots_adjust(bottom=0.15)\n",
    "plt.show()"
   ]
  },
  {
   "cell_type": "code",
   "execution_count": 69,
   "metadata": {},
   "outputs": [
    {
     "data": {
      "image/png": "[encoded data removed]",
      "text/plain": [
       "<matplotlib.figure.Figure at 0x112995a20>"
      ]
     },
     "metadata": {},
     "output_type": "display_data"
    }
   ],
   "source": [
    "x = [1, 2, 3, 4]\n",
    "y = [0.20165806206, 0.234735911185, 0.181701044989, 0.213980056827]\n",
    "labels = ['0.01', '0.001', '0.0001', '0.00001']\n",
    "\n",
    "plt.title('Log Loss Validation')\n",
    "plt.ylabel('Log Loss Score')\n",
    "plt.xlabel('Learning Rate')\n",
    "\n",
    "plt.plot(x, y, 'ro')\n",
    "# You can specify a rotation for the tick labels in degrees or with keywords.\n",
    "plt.xticks(x, labels, rotation='vertical')\n",
    "# Pad margins so that markers don't get clipped by the axes\n",
    "plt.margins(0.2)\n",
    "# Tweak spacing to prevent clipping of tick-labels\n",
    "plt.subplots_adjust(bottom=0.15)\n",
    "plt.show()"
   ]
  },
  {
   "cell_type": "code",
   "execution_count": 70,
   "metadata": {},
   "outputs": [
    {
     "data": {
      "image/png": "[encoded data removed]",
      "text/plain": [
       "<matplotlib.figure.Figure at 0x11297c0f0>"
      ]
     },
     "metadata": {},
     "output_type": "display_data"
    }
   ],
   "source": [
    "x = [1, 2, 3, 4, 5]\n",
    "y = [0.181701044989, 0.174257478678, 0.179240771208, 0.183048155108, 0.179382493428]\n",
    "labels = ['10', '15', '20', '25', '30']\n",
    "\n",
    "plt.title('Log Loss Validation')\n",
    "plt.ylabel('Log Loss Score')\n",
    "plt.xlabel('Patience')\n",
    "\n",
    "plt.plot(x, y, 'ro')\n",
    "# You can specify a rotation for the tick labels in degrees or with keywords.\n",
    "plt.xticks(x, labels, rotation='vertical')\n",
    "# Pad margins so that markers don't get clipped by the axes\n",
    "plt.margins(0.2)\n",
    "# Tweak spacing to prevent clipping of tick-labels\n",
    "plt.subplots_adjust(bottom=0.15)\n",
    "plt.show()"
   ]
  },
  {
   "cell_type": "code",
   "execution_count": 71,
   "metadata": {
    "collapsed": true
   },
   "outputs": [],
   "source": [
    "# x = np.arange(5)\n",
    "# plt.bar(x, height= [0.181701044989, 0.174257478678, 0.179240771208, 0.183048155108, 0.179382493428])\n",
    "# plt.xticks(x+.5, ['10','20','30']);\n"
   ]
  },
  {
   "cell_type": "code",
   "execution_count": null,
   "metadata": {
    "collapsed": true
   },
   "outputs": [],
   "source": []
  }
 ],
 "metadata": {
  "kernelspec": {
   "display_name": "Python 3",
   "language": "python",
   "name": "python3"
  },
  "language_info": {
   "codemirror_mode": {
    "name": "ipython",
    "version": 3
   },
   "file_extension": ".py",
   "mimetype": "text/x-python",
   "name": "python",
   "nbconvert_exporter": "python",
   "pygments_lexer": "ipython3",
   "version": "3.6.4"
  }
 },
 "nbformat": 4,
 "nbformat_minor": 2
}
