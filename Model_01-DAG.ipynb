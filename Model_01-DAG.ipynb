{
 "cells": [
  {
   "cell_type": "code",
   "execution_count": 1,
   "metadata": {},
   "outputs": [],
   "source": [
    "import numpy as np\n",
    "import pandas as pd\n",
    "from sklearn.model_selection import train_test_split\n",
    "from os.path import join as opj\n",
    "from matplotlib import pyplot as plt\n",
    "from mpl_toolkits.mplot3d import Axes3D\n",
    "import pylab\n",
    "plt.rcParams['figure.figsize'] = 10, 10\n",
    "%matplotlib inline"
   ]
  },
  {
   "cell_type": "code",
   "execution_count": 5,
   "metadata": {},
   "outputs": [],
   "source": [
    "#Load the data.\n",
    "train = pd.read_json(\"input/train.json\")\n",
    "target_train = np.array(train['is_iceberg'])\n",
    "test = pd.read_json(\"input/test.json\")"
   ]
  },
  {
   "cell_type": "code",
   "execution_count": 6,
   "metadata": {},
   "outputs": [],
   "source": [
    "#Generate the training data\n",
    "#Create 3 bands having HH, HV and avg of both\n",
    "X_band_1=np.array([np.array(band).astype(np.float32).reshape(75, 75) for band in train[\"band_1\"]])\n",
    "X_band_2=np.array([np.array(band).astype(np.float32).reshape(75, 75) for band in train[\"band_2\"]])\n",
    "X_train = np.concatenate([X_band_1[:, :, :, np.newaxis], X_band_2[:, :, :, np.newaxis],((X_band_1+X_band_2)/2)[:, :, :, np.newaxis]], axis=-1)"
   ]
  },
  {
   "cell_type": "code",
   "execution_count": 7,
   "metadata": {},
   "outputs": [],
   "source": [
    "X_band_test_1=np.array([np.array(band).astype(np.float32).reshape(75, 75) for band in test[\"band_1\"]])\n",
    "X_band_test_2=np.array([np.array(band).astype(np.float32).reshape(75, 75) for band in test[\"band_2\"]])\n",
    "X_band_test_3=(X_band_test_1+X_band_test_2)/2\n",
    "#X_band_test_3=np.array([np.full((75, 75), angel).astype(np.float32) for angel in test[\"inc_angle\"]])\n",
    "X_test = np.concatenate([X_band_test_1[:, :, :, np.newaxis]\n",
    "                          , X_band_test_2[:, :, :, np.newaxis]\n",
    "                         , X_band_test_3[:, :, :, np.newaxis]], axis=-1)"
   ]
  },
  {
   "cell_type": "code",
   "execution_count": 8,
   "metadata": {},
   "outputs": [],
   "source": [
    "train.inc_angle = train.inc_angle.replace('na', 0)\n",
    "idx_tr = np.where(train.inc_angle > 0)"
   ]
  },
  {
   "cell_type": "code",
   "execution_count": 3,
   "metadata": {},
   "outputs": [],
   "source": [
    "# target_train = target_train[idx_tr[0]]\n",
    "# X_train = X_train[idx_tr[0],...]"
   ]
  },
  {
   "cell_type": "code",
   "execution_count": 9,
   "metadata": {},
   "outputs": [],
   "source": [
    "X_angle_train = np.array(train.inc_angle)\n",
    "X_angle_test = np.array(test.inc_angle)\n",
    "y_train = np.array(train[\"is_iceberg\"])"
   ]
  },
  {
   "cell_type": "markdown",
   "metadata": {},
   "source": [
    "---\n"
   ]
  },
  {
   "cell_type": "code",
   "execution_count": 10,
   "metadata": {},
   "outputs": [],
   "source": [
    "# Create a train and validation split, 75% of data used in training\n",
    "from sklearn.model_selection import train_test_split\n",
    "\n",
    "X_train, X_valid, X_angle_train, X_angle_valid, y_train, y_valid = train_test_split(X_train,\n",
    "                                    X_angle_train, y_train, random_state=1, train_size=0.75)"
   ]
  },
  {
   "cell_type": "markdown",
   "metadata": {},
   "source": [
    "---"
   ]
  },
  {
   "cell_type": "code",
   "execution_count": 11,
   "metadata": {},
   "outputs": [
    {
     "name": "stderr",
     "output_type": "stream",
     "text": [
      "Using TensorFlow backend.\n"
     ]
    }
   ],
   "source": [
    "#Import Keras.\n",
    "from matplotlib import pyplot\n",
    "from keras.preprocessing.image import ImageDataGenerator\n",
    "from keras.models import Sequential\n",
    "from keras.layers import Conv2D, MaxPooling2D, Dense, Dropout, Input, Flatten, Activation\n",
    "from keras.layers import GlobalMaxPooling2D\n",
    "from keras.layers.normalization import BatchNormalization\n",
    "from keras.layers.merge import Concatenate\n",
    "from keras.models import Model\n",
    "from keras import initializers\n",
    "from keras.optimizers import Adam\n",
    "from keras.callbacks import ModelCheckpoint, Callback, EarlyStopping"
   ]
  },
  {
   "cell_type": "code",
   "execution_count": 10,
   "metadata": {
    "collapsed": true
   },
   "outputs": [],
   "source": [
    "# from keras.models import Model\n",
    "# from keras.layers import Input, Dense, Reshape, concatenate, Conv2D, Flatten, MaxPooling2D\n",
    "# from keras.layers import BatchNormalization, Dropout, GlobalMaxPooling2D\n",
    "\n",
    "# def simple_cnn():\n",
    "#     pic_input = Input(shape=(75, 75, 3))\n",
    "#     ang_input = Input(shape=(1,))\n",
    "\n",
    "#     cnn = BatchNormalization()(pic_input)\n",
    "#     for i in range(4):\n",
    "#         cnn = Conv2D(8*2**i, kernel_size = (3,3), activation='relu')(cnn)\n",
    "#         cnn = MaxPooling2D((2,2))(cnn)\n",
    "#     cnn = GlobalMaxPooling2D()(cnn)\n",
    "#     cnn = concatenate([cnn,ang_input])\n",
    "#     cnn = Dense(32,activation='relu')(cnn)\n",
    "#     cnn = Dense(1, activation = 'sigmoid')(cnn)\n",
    "\n",
    "#     simple_cnn = Model(inputs=[pic_input,ang_input],outputs=cnn)\n",
    "\n",
    "#     simple_cnn.compile(optimizer='adam', loss = 'binary_crossentropy', metrics = ['accuracy'])\n",
    "#     return simple_cnn"
   ]
  },
  {
   "cell_type": "code",
   "execution_count": 21,
   "metadata": {},
   "outputs": [],
   "source": [
    "from keras.models import Model\n",
    "from keras.layers import Input, Dense, Reshape, concatenate, Conv2D, Flatten, MaxPooling2D\n",
    "from keras.layers import BatchNormalization, Dropout, GlobalMaxPooling2D\n",
    "\n",
    "def getModel():\n",
    "    pic_input = Input(shape=(75, 75, 3))\n",
    "    ang_input = Input(shape=(1,))\n",
    "    \n",
    "    cnn = BatchNormalization()(pic_input)\n",
    "    cnn = Conv2D(64, kernel_size=(3, 3), activation='relu')(cnn)\n",
    "    cnn = MaxPooling2D(pool_size=(3, 3), strides=(2, 2))(cnn)\n",
    "    cnn = Dropout(0.3)(cnn)\n",
    "    cnn = Conv2D(128, kernel_size=(3, 3), activation='relu')(cnn)\n",
    "    cnn = MaxPooling2D(pool_size=(3, 3), strides=(2, 2))(cnn)\n",
    "    cnn = Dropout(0.3)(cnn)\n",
    "    cnn = Conv2D(128, kernel_size=(3, 3), activation='relu')(cnn)\n",
    "    cnn = MaxPooling2D(pool_size=(3, 3), strides=(2, 2))(cnn)\n",
    "    cnn = Dropout(0.3)(cnn)\n",
    "    cnn = Conv2D(64, kernel_size=(3, 3), activation='relu')(cnn)\n",
    "    cnn = MaxPooling2D(pool_size=(3, 3), strides=(2, 2))(cnn)\n",
    "    cnn = Dropout(0.3)(cnn)\n",
    "#     for i in range(4):\n",
    "#         cnn = Conv2D(8*2**i, kernel_size = (3,3), activation='relu')(cnn)\n",
    "#         cnn = MaxPooling2D((2,2))(cnn)\n",
    "#         cnn = Dropout(0.3)(cnn)\n",
    "    cnn = GlobalMaxPooling2D()(cnn)\n",
    "    cnn = concatenate([cnn,ang_input])\n",
    "    cnn = Dense(512,activation='relu')(cnn)\n",
    "    cnn = Dropout(0.3)(cnn)\n",
    "    cnn = Dense(256,activation='relu')(cnn)\n",
    "    cnn = Dropout(0.3)(cnn)\n",
    "    \n",
    "    predictions = Dense(1, activation = 'sigmoid')(cnn)\n",
    "\n",
    "    getModel = Model(inputs=[pic_input,ang_input],outputs=predictions)\n",
    "\n",
    "    adam = Adam(lr=0.001, beta_1=0.9, beta_2=0.999, epsilon=1e-08, decay=1e-6)\n",
    "    getModel.compile(optimizer= adam , loss = 'binary_crossentropy', metrics = ['accuracy'])\n",
    "    return getModel"
   ]
  },
  {
   "cell_type": "code",
   "execution_count": 22,
   "metadata": {},
   "outputs": [],
   "source": [
    "from keras.preprocessing.image import ImageDataGenerator\n",
    "batch_size=64\n",
    "# Define the image transformations here\n",
    "gen = ImageDataGenerator(horizontal_flip = True,\n",
    "                         vertical_flip = True,\n",
    "                         width_shift_range = 0.,\n",
    "                         height_shift_range = 0.,\n",
    "                         channel_shift_range=0,\n",
    "                         zoom_range = 0.2,\n",
    "                         rotation_range = 10)\n",
    "\n",
    "# Here is the function that merges our two generators\n",
    "# We use the exact same generator with the same random seed for both the y and angle arrays\n",
    "def gen_flow_for_two_inputs(X1, X2, y):\n",
    "    genX1 = gen.flow(X1,y,  batch_size=batch_size,seed=666)\n",
    "    genX2 = gen.flow(X1,X2, batch_size=batch_size,seed=666)\n",
    "    while True:\n",
    "            X1i = genX1.next()\n",
    "            X2i = genX2.next()\n",
    "            #Assert arrays are equal - this was for peace of mind, but slows down training\n",
    "            #np.testing.assert_array_equal(X1i[0],X2i[0])\n",
    "            yield [X1i[0], X2i[1]], X1i[1]\n",
    "\n",
    "# Finally create generator\n",
    "gen_flow = gen_flow_for_two_inputs(X_train, X_angle_train, y_train)"
   ]
  },
  {
   "cell_type": "code",
   "execution_count": 23,
   "metadata": {},
   "outputs": [],
   "source": [
    "def get_callbacks(filepath, patience=2):\n",
    "    es = EarlyStopping('val_loss', patience=patience, mode=\"min\")\n",
    "    msave = ModelCheckpoint(filepath, save_best_only=True)\n",
    "    return [es, msave]\n",
    "file_path = \".model_weights.hdf5\"\n",
    "callbacks = get_callbacks(filepath=file_path, patience=10)"
   ]
  },
  {
   "cell_type": "code",
   "execution_count": null,
   "metadata": {
    "collapsed": true,
    "scrolled": true
   },
   "outputs": [],
   "source": [
    "# Create the model\n",
    "model = simple_cnn()\n",
    "\n",
    "# Fit the model using our generator defined above\n",
    "histr=model.fit_generator(gen_flow, validation_data=([X_valid, X_angle_valid], y_valid),\n",
    "                    steps_per_epoch=len(X_train) / batch_size, epochs=0, callbacks=callbacks)"
   ]
  },
  {
   "cell_type": "code",
   "execution_count": null,
   "metadata": {
    "collapsed": true,
    "scrolled": true
   },
   "outputs": [],
   "source": [
    "model.summary()"
   ]
  },
  {
   "cell_type": "code",
   "execution_count": 24,
   "metadata": {
    "scrolled": false
   },
   "outputs": [
    {
     "name": "stdout",
     "output_type": "stream",
     "text": [
      "__________________________________________________________________________________________________\n",
      "Layer (type)                    Output Shape         Param #     Connected to                     \n",
      "==================================================================================================\n",
      "input_5 (InputLayer)            (None, 75, 75, 3)    0                                            \n",
      "__________________________________________________________________________________________________\n",
      "batch_normalization_3 (BatchNor (None, 75, 75, 3)    12          input_5[0][0]                    \n",
      "__________________________________________________________________________________________________\n",
      "conv2d_9 (Conv2D)               (None, 73, 73, 64)   1792        batch_normalization_3[0][0]      \n",
      "__________________________________________________________________________________________________\n",
      "max_pooling2d_9 (MaxPooling2D)  (None, 36, 36, 64)   0           conv2d_9[0][0]                   \n",
      "__________________________________________________________________________________________________\n",
      "dropout_13 (Dropout)            (None, 36, 36, 64)   0           max_pooling2d_9[0][0]            \n",
      "__________________________________________________________________________________________________\n",
      "conv2d_10 (Conv2D)              (None, 34, 34, 128)  73856       dropout_13[0][0]                 \n",
      "__________________________________________________________________________________________________\n",
      "max_pooling2d_10 (MaxPooling2D) (None, 16, 16, 128)  0           conv2d_10[0][0]                  \n",
      "__________________________________________________________________________________________________\n",
      "dropout_14 (Dropout)            (None, 16, 16, 128)  0           max_pooling2d_10[0][0]           \n",
      "__________________________________________________________________________________________________\n",
      "conv2d_11 (Conv2D)              (None, 14, 14, 128)  147584      dropout_14[0][0]                 \n",
      "__________________________________________________________________________________________________\n",
      "max_pooling2d_11 (MaxPooling2D) (None, 6, 6, 128)    0           conv2d_11[0][0]                  \n",
      "__________________________________________________________________________________________________\n",
      "dropout_15 (Dropout)            (None, 6, 6, 128)    0           max_pooling2d_11[0][0]           \n",
      "__________________________________________________________________________________________________\n",
      "conv2d_12 (Conv2D)              (None, 4, 4, 64)     73792       dropout_15[0][0]                 \n",
      "__________________________________________________________________________________________________\n",
      "max_pooling2d_12 (MaxPooling2D) (None, 1, 1, 64)     0           conv2d_12[0][0]                  \n",
      "__________________________________________________________________________________________________\n",
      "dropout_16 (Dropout)            (None, 1, 1, 64)     0           max_pooling2d_12[0][0]           \n",
      "__________________________________________________________________________________________________\n",
      "global_max_pooling2d_3 (GlobalM (None, 64)           0           dropout_16[0][0]                 \n",
      "__________________________________________________________________________________________________\n",
      "input_6 (InputLayer)            (None, 1)            0                                            \n",
      "__________________________________________________________________________________________________\n",
      "concatenate_3 (Concatenate)     (None, 65)           0           global_max_pooling2d_3[0][0]     \n",
      "                                                                 input_6[0][0]                    \n",
      "__________________________________________________________________________________________________\n",
      "dense_7 (Dense)                 (None, 512)          33792       concatenate_3[0][0]              \n",
      "__________________________________________________________________________________________________\n",
      "dropout_17 (Dropout)            (None, 512)          0           dense_7[0][0]                    \n",
      "__________________________________________________________________________________________________\n",
      "dense_8 (Dense)                 (None, 256)          131328      dropout_17[0][0]                 \n",
      "__________________________________________________________________________________________________\n",
      "dropout_18 (Dropout)            (None, 256)          0           dense_8[0][0]                    \n",
      "__________________________________________________________________________________________________\n",
      "dense_9 (Dense)                 (None, 1)            257         dropout_18[0][0]                 \n",
      "==================================================================================================\n",
      "Total params: 462,413\n",
      "Trainable params: 462,407\n",
      "Non-trainable params: 6\n",
      "__________________________________________________________________________________________________\n",
      "Epoch 1/100\n",
      "24/24 [==============================] - 4s 168ms/step - loss: 1.0092 - acc: 0.5735 - val_loss: 0.8215 - val_acc: 0.5511\n",
      "Epoch 2/100\n",
      "24/24 [==============================] - 3s 133ms/step - loss: 0.6660 - acc: 0.6350 - val_loss: 0.5711 - val_acc: 0.7207\n",
      "Epoch 3/100\n",
      "24/24 [==============================] - 3s 135ms/step - loss: 0.5873 - acc: 0.6762 - val_loss: 0.6605 - val_acc: 0.6259\n",
      "Epoch 4/100\n",
      "24/24 [==============================] - 3s 140ms/step - loss: 0.5608 - acc: 0.6952 - val_loss: 0.6756 - val_acc: 0.5636\n",
      "Epoch 5/100\n",
      "24/24 [==============================] - 3s 138ms/step - loss: 0.4638 - acc: 0.7635 - val_loss: 0.5038 - val_acc: 0.7307\n",
      "Epoch 6/100\n",
      "24/24 [==============================] - 3s 137ms/step - loss: 0.4669 - acc: 0.7858 - val_loss: 0.5124 - val_acc: 0.7332\n",
      "Epoch 7/100\n",
      "24/24 [==============================] - 3s 136ms/step - loss: 0.4322 - acc: 0.7949 - val_loss: 0.5477 - val_acc: 0.6933\n",
      "Epoch 8/100\n",
      "24/24 [==============================] - 3s 139ms/step - loss: 0.4199 - acc: 0.8133 - val_loss: 0.4135 - val_acc: 0.7905\n",
      "Epoch 9/100\n",
      "24/24 [==============================] - 3s 139ms/step - loss: 0.4433 - acc: 0.8039 - val_loss: 0.4337 - val_acc: 0.8105\n",
      "Epoch 10/100\n",
      "24/24 [==============================] - 3s 134ms/step - loss: 0.4241 - acc: 0.8168 - val_loss: 0.5267 - val_acc: 0.7132\n",
      "Epoch 11/100\n",
      "24/24 [==============================] - 3s 140ms/step - loss: 0.3992 - acc: 0.8230 - val_loss: 0.4257 - val_acc: 0.7805\n",
      "Epoch 12/100\n",
      "24/24 [==============================] - 3s 133ms/step - loss: 0.4108 - acc: 0.8334 - val_loss: 0.4140 - val_acc: 0.8080\n",
      "Epoch 13/100\n",
      "24/24 [==============================] - 3s 140ms/step - loss: 0.3795 - acc: 0.8366 - val_loss: 0.3370 - val_acc: 0.8554\n",
      "Epoch 14/100\n",
      "24/24 [==============================] - 3s 135ms/step - loss: 0.3790 - acc: 0.8422 - val_loss: 0.3660 - val_acc: 0.8354\n",
      "Epoch 15/100\n",
      "24/24 [==============================] - 3s 135ms/step - loss: 0.3644 - acc: 0.8444 - val_loss: 0.4543 - val_acc: 0.7731\n",
      "Epoch 16/100\n",
      "24/24 [==============================] - 3s 139ms/step - loss: 0.3735 - acc: 0.8499 - val_loss: 0.5010 - val_acc: 0.7481\n",
      "Epoch 17/100\n",
      "24/24 [==============================] - 3s 141ms/step - loss: 0.4121 - acc: 0.8222 - val_loss: 0.4365 - val_acc: 0.7955\n",
      "Epoch 18/100\n",
      "24/24 [==============================] - 3s 134ms/step - loss: 0.4113 - acc: 0.8279 - val_loss: 0.3847 - val_acc: 0.8204\n",
      "Epoch 19/100\n",
      "24/24 [==============================] - 3s 137ms/step - loss: 0.3619 - acc: 0.8442 - val_loss: 0.4191 - val_acc: 0.7980\n",
      "Epoch 20/100\n",
      "24/24 [==============================] - 3s 139ms/step - loss: 0.3612 - acc: 0.8401 - val_loss: 0.4016 - val_acc: 0.8030\n",
      "Epoch 21/100\n",
      "24/24 [==============================] - 3s 135ms/step - loss: 0.3618 - acc: 0.8499 - val_loss: 0.3694 - val_acc: 0.8379\n",
      "Epoch 22/100\n",
      "24/24 [==============================] - 3s 138ms/step - loss: 0.3438 - acc: 0.8574 - val_loss: 0.3283 - val_acc: 0.8529\n",
      "Epoch 23/100\n",
      "24/24 [==============================] - 3s 138ms/step - loss: 0.3770 - acc: 0.8444 - val_loss: 0.3557 - val_acc: 0.8554\n",
      "Epoch 24/100\n",
      "24/24 [==============================] - 3s 137ms/step - loss: 0.3637 - acc: 0.8385 - val_loss: 0.3073 - val_acc: 0.8628\n",
      "Epoch 25/100\n",
      "24/24 [==============================] - 3s 136ms/step - loss: 0.3545 - acc: 0.8496 - val_loss: 0.3134 - val_acc: 0.8529\n",
      "Epoch 26/100\n",
      "24/24 [==============================] - 3s 140ms/step - loss: 0.3405 - acc: 0.8569 - val_loss: 0.2950 - val_acc: 0.8678\n",
      "Epoch 27/100\n",
      "24/24 [==============================] - 3s 136ms/step - loss: 0.3370 - acc: 0.8536 - val_loss: 0.3308 - val_acc: 0.8454\n",
      "Epoch 28/100\n",
      "24/24 [==============================] - 3s 136ms/step - loss: 0.3303 - acc: 0.8488 - val_loss: 0.3175 - val_acc: 0.8579\n",
      "Epoch 29/100\n",
      "24/24 [==============================] - 3s 141ms/step - loss: 0.3533 - acc: 0.8589 - val_loss: 0.3104 - val_acc: 0.8628\n",
      "Epoch 30/100\n",
      "24/24 [==============================] - 3s 141ms/step - loss: 0.3484 - acc: 0.8484 - val_loss: 0.2622 - val_acc: 0.8878\n",
      "Epoch 31/100\n",
      "24/24 [==============================] - 3s 134ms/step - loss: 0.3084 - acc: 0.8696 - val_loss: 0.2655 - val_acc: 0.8878\n",
      "Epoch 32/100\n",
      "24/24 [==============================] - 3s 136ms/step - loss: 0.3181 - acc: 0.8735 - val_loss: 0.2677 - val_acc: 0.8878\n",
      "Epoch 33/100\n",
      "24/24 [==============================] - 3s 138ms/step - loss: 0.2982 - acc: 0.8794 - val_loss: 0.3027 - val_acc: 0.8554\n",
      "Epoch 34/100\n",
      "24/24 [==============================] - 3s 137ms/step - loss: 0.3214 - acc: 0.8623 - val_loss: 0.2572 - val_acc: 0.8803\n",
      "Epoch 35/100\n",
      "24/24 [==============================] - 3s 135ms/step - loss: 0.2824 - acc: 0.8862 - val_loss: 0.2224 - val_acc: 0.9052\n",
      "Epoch 36/100\n",
      "24/24 [==============================] - 3s 137ms/step - loss: 0.3278 - acc: 0.8563 - val_loss: 0.3162 - val_acc: 0.8479\n",
      "Epoch 37/100\n",
      "24/24 [==============================] - 3s 133ms/step - loss: 0.3120 - acc: 0.8646 - val_loss: 0.2582 - val_acc: 0.8778\n",
      "Epoch 38/100\n",
      "24/24 [==============================] - 3s 138ms/step - loss: 0.3162 - acc: 0.8611 - val_loss: 0.2750 - val_acc: 0.8753\n",
      "Epoch 39/100\n",
      "24/24 [==============================] - 3s 135ms/step - loss: 0.2807 - acc: 0.8743 - val_loss: 0.2452 - val_acc: 0.8753\n",
      "Epoch 40/100\n",
      "24/24 [==============================] - 3s 138ms/step - loss: 0.2829 - acc: 0.8836 - val_loss: 0.2696 - val_acc: 0.8753\n",
      "Epoch 41/100\n",
      "24/24 [==============================] - 3s 139ms/step - loss: 0.2981 - acc: 0.8719 - val_loss: 0.2358 - val_acc: 0.8878\n",
      "Epoch 42/100\n",
      "24/24 [==============================] - 3s 138ms/step - loss: 0.2879 - acc: 0.8828 - val_loss: 0.2334 - val_acc: 0.8953\n",
      "Epoch 43/100\n",
      "24/24 [==============================] - 3s 141ms/step - loss: 0.2949 - acc: 0.8686 - val_loss: 0.2447 - val_acc: 0.9027\n",
      "Epoch 44/100\n",
      "24/24 [==============================] - 3s 136ms/step - loss: 0.2626 - acc: 0.8805 - val_loss: 0.2699 - val_acc: 0.8703\n",
      "Epoch 45/100\n",
      "24/24 [==============================] - 3s 136ms/step - loss: 0.2734 - acc: 0.8839 - val_loss: 0.2358 - val_acc: 0.8928\n"
     ]
    }
   ],
   "source": [
    "# Create the model\n",
    "model = getModel()\n",
    "model.summary()\n",
    "# Fit the model using our generator defined above\n",
    "histr=model.fit_generator(gen_flow, validation_data=([X_valid, X_angle_valid], y_valid),\n",
    "                    steps_per_epoch=24, epochs=100, callbacks=callbacks)"
   ]
  },
  {
   "cell_type": "code",
   "execution_count": 25,
   "metadata": {},
   "outputs": [
    {
     "name": "stdout",
     "output_type": "stream",
     "text": [
      "Train loss: 0.233633082679\n",
      "Train accuracy: 0.896093100681\n",
      "Test loss: 0.222421608364\n",
      "Test accuracy: 0.905236908177\n"
     ]
    }
   ],
   "source": [
    "model.load_weights(filepath=file_path)\n",
    "\n",
    "score = model.evaluate([X_train, X_angle_train], y_train, verbose=0)\n",
    "print('Train loss:', score[0])\n",
    "print('Train accuracy:', score[1])\n",
    "#Getting Test Score\n",
    "score = model.evaluate([X_valid, X_angle_valid], y_valid, verbose=0)\n",
    "print('Test loss:', score[0])\n",
    "print('Test accuracy:', score[1])"
   ]
  },
  {
   "cell_type": "markdown",
   "metadata": {},
   "source": [
    "---"
   ]
  },
  {
   "cell_type": "code",
   "execution_count": 26,
   "metadata": {},
   "outputs": [
    {
     "data": {
      "text/html": [
       "<div>\n",
       "<style>\n",
       "    .dataframe thead tr:only-child th {\n",
       "        text-align: right;\n",
       "    }\n",
       "\n",
       "    .dataframe thead th {\n",
       "        text-align: left;\n",
       "    }\n",
       "\n",
       "    .dataframe tbody tr th {\n",
       "        vertical-align: top;\n",
       "    }\n",
       "</style>\n",
       "<table border=\"1\" class=\"dataframe\">\n",
       "  <thead>\n",
       "    <tr style=\"text-align: right;\">\n",
       "      <th></th>\n",
       "      <th>id</th>\n",
       "      <th>is_iceberg</th>\n",
       "    </tr>\n",
       "  </thead>\n",
       "  <tbody>\n",
       "    <tr>\n",
       "      <th>6923</th>\n",
       "      <td>5c4ef9dd</td>\n",
       "      <td>0.594054</td>\n",
       "    </tr>\n",
       "    <tr>\n",
       "      <th>4987</th>\n",
       "      <td>0dbd653f</td>\n",
       "      <td>0.136483</td>\n",
       "    </tr>\n",
       "    <tr>\n",
       "      <th>7024</th>\n",
       "      <td>248be600</td>\n",
       "      <td>0.226744</td>\n",
       "    </tr>\n",
       "  </tbody>\n",
       "</table>\n",
       "</div>"
      ],
      "text/plain": [
       "            id  is_iceberg\n",
       "6923  5c4ef9dd    0.594054\n",
       "4987  0dbd653f    0.136483\n",
       "7024  248be600    0.226744"
      ]
     },
     "execution_count": 26,
     "metadata": {},
     "output_type": "execute_result"
    }
   ],
   "source": [
    "# Predict on test data\n",
    "test_predictions = model.predict([X_test,X_angle_test])\n",
    "\n",
    "# Create .csv\n",
    "pred_df = test[['id']].copy()\n",
    "pred_df['is_iceberg'] = test_predictions\n",
    "pred_df.to_csv('model_01_data_DAG.csv', index = False)\n",
    "pred_df.sample(3)"
   ]
  },
  {
   "cell_type": "markdown",
   "metadata": {},
   "source": [
    "Kaggle Score: 0.2454"
   ]
  },
  {
   "cell_type": "code",
   "execution_count": 27,
   "metadata": {},
   "outputs": [
    {
     "name": "stdout",
     "output_type": "stream",
     "text": [
      "dict_keys(['loss', 'val_loss', 'val_acc', 'acc'])\n"
     ]
    },
    {
     "data": {
      "image/png": "[encoded data removed]",
      "text/plain": [
       "<matplotlib.figure.Figure at 0x7fb830605eb8>"
      ]
     },
     "metadata": {},
     "output_type": "display_data"
    },
    {
     "data": {
      "image/png": "[encoded data removed]",
      "text/plain": [
       "<matplotlib.figure.Figure at 0x7fb8305cf828>"
      ]
     },
     "metadata": {},
     "output_type": "display_data"
    }
   ],
   "source": [
    "# list all data in history\n",
    "print(histr.history.keys())\n",
    "# summarize history for accuracy\n",
    "plt.plot(histr.history['acc'])\n",
    "plt.plot(histr.history['val_acc'])\n",
    "plt.title('model accuracy')\n",
    "plt.ylabel('accuracy')\n",
    "plt.xlabel('epoch')\n",
    "plt.legend(['train', 'test'], loc='upper left')\n",
    "plt.show()\n",
    "# summarize history for loss\n",
    "plt.plot(histr.history['loss'])\n",
    "plt.plot(histr.history['val_loss'])\n",
    "plt.title('model loss')\n",
    "plt.ylabel('loss')\n",
    "plt.xlabel('epoch')\n",
    "plt.legend(['train', 'test'], loc='upper left')\n",
    "plt.show()"
   ]
  },
  {
   "cell_type": "code",
   "execution_count": null,
   "metadata": {},
   "outputs": [],
   "source": []
  }
 ],
 "metadata": {
  "kernelspec": {
   "display_name": "Python 3",
   "language": "python",
   "name": "python3"
  },
  "language_info": {
   "codemirror_mode": {
    "name": "ipython",
    "version": 3
   },
   "file_extension": ".py",
   "mimetype": "text/x-python",
   "name": "python",
   "nbconvert_exporter": "python",
   "pygments_lexer": "ipython3",
   "version": "3.5.2"
  }
 },
 "nbformat": 4,
 "nbformat_minor": 2
}
