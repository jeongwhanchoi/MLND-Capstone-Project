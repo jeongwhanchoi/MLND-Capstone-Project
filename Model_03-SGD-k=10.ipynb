{
 "cells": [
  {
   "cell_type": "markdown",
   "metadata": {},
   "source": [
    "# Model_03-SGD-K=3\n",
    "## Imports"
   ]
  },
  {
   "cell_type": "code",
   "execution_count": 1,
   "metadata": {
    "collapsed": true
   },
   "outputs": [],
   "source": [
    "#Mandatory imports\n",
    "import numpy as np\n",
    "import pandas as pd\n",
    "from sklearn.model_selection import train_test_split\n",
    "from sklearn.metrics import log_loss\n",
    "from sklearn.model_selection import StratifiedKFold, StratifiedShuffleSplit\n",
    "from os.path import join as opj\n",
    "from matplotlib import pyplot as plt\n",
    "from mpl_toolkits.mplot3d import Axes3D\n",
    "import pylab\n",
    "plt.rcParams['figure.figsize'] = 10, 10\n",
    "%matplotlib inline"
   ]
  },
  {
   "cell_type": "markdown",
   "metadata": {},
   "source": [
    "## Load Input Data"
   ]
  },
  {
   "cell_type": "code",
   "execution_count": 2,
   "metadata": {
    "collapsed": true
   },
   "outputs": [],
   "source": [
    "train = pd.read_json(\"input/train.json\")\n",
    "target_train=train['is_iceberg']\n",
    "test = pd.read_json(\"input/test.json\")"
   ]
  },
  {
   "cell_type": "code",
   "execution_count": 3,
   "metadata": {
    "collapsed": true
   },
   "outputs": [],
   "source": [
    "target_train=train['is_iceberg']\n",
    "test['inc_angle']=pd.to_numeric(test['inc_angle'], errors='coerce')\n",
    "train['inc_angle']=pd.to_numeric(train['inc_angle'], errors='coerce')#We have only 133 NAs.\n",
    "train['inc_angle']=train['inc_angle'].fillna(method='pad')\n",
    "X_angle=train['inc_angle']\n",
    "test['inc_angle']=pd.to_numeric(test['inc_angle'], errors='coerce')\n",
    "X_test_angle=test['inc_angle']"
   ]
  },
  {
   "cell_type": "markdown",
   "metadata": {},
   "source": [
    "## Generate the training data\n",
    "Use band_1 as the first color dimension and band_2 as the second color dimension. I formatted the third color dimension using the average of band_1 and band_2."
   ]
  },
  {
   "cell_type": "code",
   "execution_count": 4,
   "metadata": {
    "collapsed": true
   },
   "outputs": [],
   "source": [
    "#Generate the training data\n",
    "X_band_1=np.array([np.array(band).astype(np.float32).reshape(75, 75) for band in train[\"band_1\"]])\n",
    "X_band_2=np.array([np.array(band).astype(np.float32).reshape(75, 75) for band in train[\"band_2\"]])\n",
    "X_band_3=(X_band_1+X_band_2)/2\n",
    "#X_band_3=np.array([np.full((75, 75), angel).astype(np.float32) for angel in train[\"inc_angle\"]])\n",
    "X_train = np.concatenate([X_band_1[:, :, :, np.newaxis]\n",
    "                          , X_band_2[:, :, :, np.newaxis]\n",
    "                         , X_band_3[:, :, :, np.newaxis]], axis=-1)"
   ]
  },
  {
   "cell_type": "code",
   "execution_count": 5,
   "metadata": {
    "collapsed": true
   },
   "outputs": [],
   "source": [
    "X_band_test_1=np.array([np.array(band).astype(np.float32).reshape(75, 75) for band in test[\"band_1\"]])\n",
    "X_band_test_2=np.array([np.array(band).astype(np.float32).reshape(75, 75) for band in test[\"band_2\"]])\n",
    "X_band_test_3=(X_band_test_1+X_band_test_2)/2\n",
    "#X_band_test_3=np.array([np.full((75, 75), angel).astype(np.float32) for angel in test[\"inc_angle\"]])\n",
    "X_test = np.concatenate([X_band_test_1[:, :, :, np.newaxis]\n",
    "                          , X_band_test_2[:, :, :, np.newaxis]\n",
    "                         , X_band_test_3[:, :, :, np.newaxis]], axis=-1)"
   ]
  },
  {
   "cell_type": "markdown",
   "metadata": {},
   "source": [
    "## Transfer Learning"
   ]
  },
  {
   "cell_type": "code",
   "execution_count": 6,
   "metadata": {},
   "outputs": [
    {
     "name": "stderr",
     "output_type": "stream",
     "text": [
      "Using TensorFlow backend.\n"
     ]
    }
   ],
   "source": [
    "#Import Keras.\n",
    "from matplotlib import pyplot\n",
    "from keras.optimizers import RMSprop\n",
    "# from keras.preprocessing.image import ImageDataGenerator\n",
    "from keras.models import Sequential\n",
    "from keras.layers import Conv2D, MaxPooling2D, Dense, Dropout, Input, Flatten, Activation\n",
    "from keras.layers import GlobalMaxPooling2D\n",
    "from keras.layers.normalization import BatchNormalization\n",
    "from keras.layers.merge import Concatenate\n",
    "from keras.models import Model\n",
    "from keras import initializers\n",
    "from keras.optimizers import Adam\n",
    "from keras.optimizers import rmsprop\n",
    "from keras.optimizers import SGD\n",
    "from keras.optimizers import Nadam\n",
    "from keras.optimizers import Adadelta\n",
    "from keras.layers.advanced_activations import LeakyReLU, PReLU\n",
    "from keras.callbacks import ModelCheckpoint, Callback, EarlyStopping\n",
    "\n",
    "from keras.datasets import cifar10\n",
    "from keras.applications.inception_v3 import InceptionV3\n",
    "from keras.applications.vgg16 import VGG16\n",
    "from keras.applications.xception import Xception\n",
    "from keras.applications.mobilenet import MobileNet\n",
    "from keras.applications.vgg19 import VGG19\n",
    "from keras.layers import Concatenate, Dense, LSTM, Input, concatenate\n",
    "from keras.preprocessing import image\n",
    "from keras.applications.vgg16 import preprocess_input"
   ]
  },
  {
   "cell_type": "markdown",
   "metadata": {},
   "source": [
    "## Image Transformation\n",
    "Use the code below to perform the data augmentation."
   ]
  },
  {
   "cell_type": "code",
   "execution_count": 7,
   "metadata": {
    "collapsed": true
   },
   "outputs": [],
   "source": [
    "#Data Aug for multi-input\n",
    "from keras.preprocessing.image import ImageDataGenerator\n",
    "batch_size=64\n",
    "# Define the image transformations here\n",
    "gen = ImageDataGenerator(horizontal_flip = True,\n",
    "                         vertical_flip = True,\n",
    "                         width_shift_range = 0.,\n",
    "                         height_shift_range = 0.,\n",
    "                         channel_shift_range=0,\n",
    "                         zoom_range = 0.2,\n",
    "                         rotation_range = 10)"
   ]
  },
  {
   "cell_type": "markdown",
   "metadata": {},
   "source": [
    "## Merge two generators"
   ]
  },
  {
   "cell_type": "code",
   "execution_count": 8,
   "metadata": {
    "collapsed": true
   },
   "outputs": [],
   "source": [
    "# Here is the function that merges our two generators\n",
    "# We use the exact same generator with the same random seed for both the y and angle arrays\n",
    "def gen_flow_for_two_inputs(X1, X2, y):\n",
    "    genX1 = gen.flow(X1,y,  batch_size=batch_size,seed=55)\n",
    "    genX2 = gen.flow(X1,X2, batch_size=batch_size,seed=55)\n",
    "    while True:\n",
    "            X1i = genX1.next()\n",
    "            X2i = genX2.next()\n",
    "            #Assert arrays are equal - this was for peace of mind, but slows down training\n",
    "            #np.testing.assert_array_equal(X1i[0],X2i[0])\n",
    "            yield [X1i[0], X2i[1]], X1i[1]"
   ]
  },
  {
   "cell_type": "code",
   "execution_count": 9,
   "metadata": {
    "collapsed": true
   },
   "outputs": [],
   "source": [
    "# Finally create generator\n",
    "def get_callbacks(filepath, patience=2):\n",
    "    es = EarlyStopping('val_loss', patience=10, mode=\"min\")\n",
    "    msave = ModelCheckpoint(filepath, save_best_only=True)\n",
    "    return [es, msave]"
   ]
  },
  {
   "cell_type": "markdown",
   "metadata": {},
   "source": [
    "## VGG16 Model"
   ]
  },
  {
   "cell_type": "code",
   "execution_count": 10,
   "metadata": {
    "collapsed": true
   },
   "outputs": [],
   "source": [
    "def getVggAngleModel():\n",
    "    input_2 = Input(shape=[1], name=\"angle\")\n",
    "    angle_layer = Dense(1, )(input_2)\n",
    "    base_model = VGG16(weights='imagenet', include_top=False, \n",
    "                 input_shape=X_train.shape[1:], classes=1)\n",
    "    x = base_model.get_layer('block5_pool').output\n",
    "    \n",
    "\n",
    "    x = GlobalMaxPooling2D()(x)\n",
    "    merge_one = concatenate([x, angle_layer])\n",
    "    merge_one = Dense(512, activation='relu', name='fc2')(merge_one)\n",
    "    merge_one = Dropout(0.3)(merge_one)\n",
    "    merge_one = Dense(512, activation='relu', name='fc3')(merge_one)\n",
    "    merge_one = Dropout(0.3)(merge_one)\n",
    "    \n",
    "    predictions = Dense(1, activation='sigmoid')(merge_one)\n",
    "    \n",
    "    model = Model(inputs=[base_model.input, input_2], outputs=predictions)\n",
    "    \n",
    "#     adadelta= Adadelta(lr=1.0, rho=0.95, epsilon=None, decay=0.0)\n",
    "#     model.compile(loss='binary_crossentropy',\n",
    "#                   optimizer=adadelta,\n",
    "#                   metrics=['accuracy'])\n",
    "    \n",
    "    sgd = SGD(lr=1e-3, decay=1e-6, momentum=0.9, nesterov=True)\n",
    "    model.compile(loss='binary_crossentropy',\n",
    "                  optimizer=sgd,\n",
    "                  metrics=['accuracy'])\n",
    "    return model\n",
    "\n"
   ]
  },
  {
   "cell_type": "markdown",
   "metadata": {},
   "source": [
    "## Stratified K-Fold Cross Validation\n",
    "### K=10"
   ]
  },
  {
   "cell_type": "code",
   "execution_count": 11,
   "metadata": {
    "scrolled": false
   },
   "outputs": [
    {
     "name": "stdout",
     "output_type": "stream",
     "text": [
      "\n",
      "===================FOLD= 0\n",
      "Epoch 1/50\n",
      "24/24 [==============================] - 17s 703ms/step - loss: 0.8804 - acc: 0.5896 - val_loss: 0.4597 - val_acc: 0.7840\n",
      "Epoch 2/50\n",
      "24/24 [==============================] - 12s 506ms/step - loss: 0.4435 - acc: 0.7991 - val_loss: 0.3330 - val_acc: 0.8272\n",
      "Epoch 3/50\n",
      "24/24 [==============================] - 12s 502ms/step - loss: 0.3503 - acc: 0.8461 - val_loss: 0.2764 - val_acc: 0.8580\n",
      "Epoch 4/50\n",
      "24/24 [==============================] - 12s 485ms/step - loss: 0.3243 - acc: 0.8526 - val_loss: 0.2810 - val_acc: 0.8704\n",
      "Epoch 5/50\n",
      "24/24 [==============================] - 12s 507ms/step - loss: 0.3003 - acc: 0.8741 - val_loss: 0.2464 - val_acc: 0.8951\n",
      "Epoch 6/50\n",
      "24/24 [==============================] - 12s 487ms/step - loss: 0.2573 - acc: 0.8875 - val_loss: 0.2521 - val_acc: 0.9012\n",
      "Epoch 7/50\n",
      "24/24 [==============================] - 12s 489ms/step - loss: 0.2673 - acc: 0.8803 - val_loss: 0.2758 - val_acc: 0.8827\n",
      "Epoch 8/50\n",
      "24/24 [==============================] - 12s 491ms/step - loss: 0.2734 - acc: 0.8891 - val_loss: 0.2604 - val_acc: 0.8889\n",
      "Epoch 9/50\n",
      "24/24 [==============================] - 12s 511ms/step - loss: 0.2331 - acc: 0.9032 - val_loss: 0.2402 - val_acc: 0.9136\n",
      "Epoch 10/50\n",
      "24/24 [==============================] - 12s 493ms/step - loss: 0.2206 - acc: 0.9175 - val_loss: 0.2531 - val_acc: 0.9074\n",
      "Epoch 11/50\n",
      "24/24 [==============================] - 12s 513ms/step - loss: 0.2340 - acc: 0.9015 - val_loss: 0.2115 - val_acc: 0.9136\n",
      "Epoch 12/50\n",
      "24/24 [==============================] - 12s 494ms/step - loss: 0.2166 - acc: 0.9172 - val_loss: 0.2256 - val_acc: 0.9198\n",
      "Epoch 13/50\n",
      "24/24 [==============================] - 12s 495ms/step - loss: 0.2221 - acc: 0.9064 - val_loss: 0.2120 - val_acc: 0.9259\n",
      "Epoch 14/50\n",
      "24/24 [==============================] - 12s 515ms/step - loss: 0.1869 - acc: 0.9258 - val_loss: 0.2111 - val_acc: 0.9074\n",
      "Epoch 15/50\n",
      "24/24 [==============================] - 12s 494ms/step - loss: 0.1778 - acc: 0.9266 - val_loss: 0.2146 - val_acc: 0.9198\n",
      "Epoch 16/50\n",
      "24/24 [==============================] - 12s 496ms/step - loss: 0.1928 - acc: 0.9229 - val_loss: 0.2389 - val_acc: 0.9074\n",
      "Epoch 17/50\n",
      "24/24 [==============================] - 12s 494ms/step - loss: 0.2012 - acc: 0.9221 - val_loss: 0.2130 - val_acc: 0.9136\n",
      "Epoch 18/50\n",
      "24/24 [==============================] - 12s 514ms/step - loss: 0.2155 - acc: 0.9169 - val_loss: 0.1916 - val_acc: 0.9012\n",
      "Epoch 19/50\n",
      "24/24 [==============================] - 12s 495ms/step - loss: 0.1797 - acc: 0.9249 - val_loss: 0.2064 - val_acc: 0.9136\n",
      "Epoch 20/50\n",
      "24/24 [==============================] - 12s 496ms/step - loss: 0.1896 - acc: 0.9226 - val_loss: 0.2093 - val_acc: 0.9198\n",
      "Epoch 21/50\n",
      "24/24 [==============================] - 12s 495ms/step - loss: 0.1875 - acc: 0.9258 - val_loss: 0.2022 - val_acc: 0.9136\n",
      "Epoch 22/50\n",
      "24/24 [==============================] - 12s 496ms/step - loss: 0.1707 - acc: 0.9330 - val_loss: 0.2129 - val_acc: 0.9074\n",
      "Epoch 23/50\n",
      "24/24 [==============================] - 13s 529ms/step - loss: 0.1669 - acc: 0.9396 - val_loss: 0.1882 - val_acc: 0.9259\n",
      "Epoch 24/50\n",
      "24/24 [==============================] - 12s 495ms/step - loss: 0.1673 - acc: 0.9342 - val_loss: 0.2118 - val_acc: 0.9136\n",
      "Epoch 25/50\n",
      "24/24 [==============================] - 12s 495ms/step - loss: 0.1613 - acc: 0.9336 - val_loss: 0.2114 - val_acc: 0.9136\n",
      "Epoch 26/50\n",
      "24/24 [==============================] - 12s 514ms/step - loss: 0.1656 - acc: 0.9317 - val_loss: 0.1852 - val_acc: 0.9383\n",
      "Epoch 27/50\n",
      "24/24 [==============================] - 12s 493ms/step - loss: 0.1468 - acc: 0.9453 - val_loss: 0.1898 - val_acc: 0.9198\n",
      "Epoch 28/50\n",
      "24/24 [==============================] - 12s 494ms/step - loss: 0.1642 - acc: 0.9313 - val_loss: 0.2109 - val_acc: 0.9074\n",
      "Epoch 29/50\n",
      "24/24 [==============================] - 12s 494ms/step - loss: 0.1566 - acc: 0.9404 - val_loss: 0.2048 - val_acc: 0.9198\n",
      "Epoch 30/50\n",
      "24/24 [==============================] - 12s 495ms/step - loss: 0.1677 - acc: 0.9293 - val_loss: 0.2164 - val_acc: 0.9136\n",
      "Epoch 31/50\n",
      "24/24 [==============================] - 12s 494ms/step - loss: 0.1564 - acc: 0.9380 - val_loss: 0.1901 - val_acc: 0.9321\n",
      "Epoch 32/50\n",
      "24/24 [==============================] - 12s 495ms/step - loss: 0.1590 - acc: 0.9434 - val_loss: 0.1866 - val_acc: 0.9136\n",
      "Epoch 33/50\n",
      "24/24 [==============================] - 12s 495ms/step - loss: 0.1374 - acc: 0.9466 - val_loss: 0.2105 - val_acc: 0.9321\n",
      "Epoch 34/50\n",
      "24/24 [==============================] - 12s 494ms/step - loss: 0.1523 - acc: 0.9387 - val_loss: 0.2041 - val_acc: 0.9198\n",
      "Epoch 35/50\n",
      "24/24 [==============================] - 12s 496ms/step - loss: 0.1534 - acc: 0.9422 - val_loss: 0.1930 - val_acc: 0.9198\n",
      "Epoch 36/50\n",
      "24/24 [==============================] - 12s 495ms/step - loss: 0.1267 - acc: 0.9499 - val_loss: 0.1967 - val_acc: 0.9198\n",
      "Train loss: 0.0987686669033\n",
      "Train accuracy: 0.966712898752\n",
      "Test loss: 0.185240378669\n",
      "Test accuracy: 0.938271604938\n",
      "\n",
      "===================FOLD= 1\n",
      "Epoch 1/50\n",
      "24/24 [==============================] - 15s 634ms/step - loss: 0.6246 - acc: 0.6490 - val_loss: 0.3753 - val_acc: 0.7888\n",
      "Epoch 2/50\n",
      "24/24 [==============================] - 12s 515ms/step - loss: 0.4519 - acc: 0.7752 - val_loss: 0.2625 - val_acc: 0.8820\n",
      "Epoch 3/50\n",
      "24/24 [==============================] - 12s 514ms/step - loss: 0.3253 - acc: 0.8376 - val_loss: 0.2177 - val_acc: 0.9006\n",
      "Epoch 4/50\n",
      "24/24 [==============================] - 12s 496ms/step - loss: 0.2907 - acc: 0.8714 - val_loss: 0.2477 - val_acc: 0.8882\n",
      "Epoch 5/50\n",
      "24/24 [==============================] - 12s 494ms/step - loss: 0.2865 - acc: 0.8770 - val_loss: 0.2358 - val_acc: 0.8509\n",
      "Epoch 6/50\n",
      "24/24 [==============================] - 12s 512ms/step - loss: 0.2628 - acc: 0.8767 - val_loss: 0.1827 - val_acc: 0.9255\n",
      "Epoch 7/50\n",
      "24/24 [==============================] - 12s 515ms/step - loss: 0.2410 - acc: 0.8889 - val_loss: 0.1810 - val_acc: 0.9255\n",
      "Epoch 8/50\n",
      "24/24 [==============================] - 12s 494ms/step - loss: 0.2440 - acc: 0.8907 - val_loss: 0.2184 - val_acc: 0.9068\n",
      "Epoch 9/50\n",
      "24/24 [==============================] - 12s 496ms/step - loss: 0.2261 - acc: 0.9007 - val_loss: 0.2070 - val_acc: 0.9006\n",
      "Epoch 10/50\n",
      "24/24 [==============================] - 12s 515ms/step - loss: 0.2411 - acc: 0.8924 - val_loss: 0.1788 - val_acc: 0.9441\n",
      "Epoch 11/50\n",
      "24/24 [==============================] - 12s 496ms/step - loss: 0.2229 - acc: 0.9009 - val_loss: 0.2063 - val_acc: 0.9255\n",
      "Epoch 12/50\n",
      "24/24 [==============================] - 12s 495ms/step - loss: 0.2114 - acc: 0.9111 - val_loss: 0.2096 - val_acc: 0.9006\n",
      "Epoch 13/50\n",
      "24/24 [==============================] - 12s 495ms/step - loss: 0.2129 - acc: 0.9005 - val_loss: 0.1870 - val_acc: 0.9441\n",
      "Epoch 14/50\n",
      "24/24 [==============================] - 12s 495ms/step - loss: 0.1947 - acc: 0.9266 - val_loss: 0.2380 - val_acc: 0.8758\n",
      "Epoch 15/50\n",
      "24/24 [==============================] - 12s 495ms/step - loss: 0.2039 - acc: 0.9167 - val_loss: 0.1804 - val_acc: 0.9255\n",
      "Epoch 16/50\n",
      "24/24 [==============================] - 12s 496ms/step - loss: 0.1973 - acc: 0.9148 - val_loss: 0.2141 - val_acc: 0.9193\n",
      "Epoch 17/50\n",
      "24/24 [==============================] - 12s 495ms/step - loss: 0.1697 - acc: 0.9281 - val_loss: 0.2156 - val_acc: 0.9255\n",
      "Epoch 18/50\n",
      "24/24 [==============================] - 12s 495ms/step - loss: 0.1982 - acc: 0.9152 - val_loss: 0.1980 - val_acc: 0.9255\n",
      "Epoch 19/50\n",
      "24/24 [==============================] - 12s 496ms/step - loss: 0.1778 - acc: 0.9273 - val_loss: 0.2469 - val_acc: 0.9006\n",
      "Epoch 20/50\n",
      "24/24 [==============================] - 12s 514ms/step - loss: 0.1820 - acc: 0.9157 - val_loss: 0.1671 - val_acc: 0.9565\n",
      "Epoch 21/50\n",
      "24/24 [==============================] - 12s 495ms/step - loss: 0.1602 - acc: 0.9296 - val_loss: 0.1877 - val_acc: 0.9255\n",
      "Epoch 22/50\n",
      "24/24 [==============================] - 12s 493ms/step - loss: 0.1782 - acc: 0.9311 - val_loss: 0.1913 - val_acc: 0.9317\n",
      "Epoch 23/50\n",
      "24/24 [==============================] - 12s 507ms/step - loss: 0.1670 - acc: 0.9302 - val_loss: 0.1744 - val_acc: 0.9193\n",
      "Epoch 24/50\n",
      "24/24 [==============================] - 12s 494ms/step - loss: 0.1683 - acc: 0.9312 - val_loss: 0.2493 - val_acc: 0.8944\n"
     ]
    },
    {
     "name": "stdout",
     "output_type": "stream",
     "text": [
      "Epoch 25/50\n",
      "24/24 [==============================] - 12s 494ms/step - loss: 0.1685 - acc: 0.9257 - val_loss: 0.1822 - val_acc: 0.9503\n",
      "Epoch 26/50\n",
      "24/24 [==============================] - 12s 495ms/step - loss: 0.1518 - acc: 0.9351 - val_loss: 0.2181 - val_acc: 0.9379\n",
      "Epoch 27/50\n",
      "24/24 [==============================] - 12s 496ms/step - loss: 0.1543 - acc: 0.9329 - val_loss: 0.2200 - val_acc: 0.9193\n",
      "Epoch 28/50\n",
      "24/24 [==============================] - 12s 494ms/step - loss: 0.1432 - acc: 0.9436 - val_loss: 0.2134 - val_acc: 0.9441\n",
      "Epoch 29/50\n",
      "24/24 [==============================] - 12s 496ms/step - loss: 0.1755 - acc: 0.9219 - val_loss: 0.2214 - val_acc: 0.9255\n",
      "Epoch 30/50\n",
      "24/24 [==============================] - 12s 495ms/step - loss: 0.1487 - acc: 0.9397 - val_loss: 0.2297 - val_acc: 0.9379\n",
      "Train loss: 0.137933181347\n",
      "Train accuracy: 0.948717948718\n",
      "Test loss: 0.167097230415\n",
      "Test accuracy: 0.95652173913\n",
      "\n",
      "===================FOLD= 2\n",
      "Epoch 1/50\n",
      "24/24 [==============================] - 13s 544ms/step - loss: 0.6665 - acc: 0.6177 - val_loss: 0.4143 - val_acc: 0.8012\n",
      "Epoch 2/50\n",
      "24/24 [==============================] - 12s 513ms/step - loss: 0.4015 - acc: 0.8000 - val_loss: 0.3072 - val_acc: 0.8509\n",
      "Epoch 3/50\n",
      "24/24 [==============================] - 12s 514ms/step - loss: 0.3137 - acc: 0.8455 - val_loss: 0.2270 - val_acc: 0.8758\n",
      "Epoch 4/50\n",
      "24/24 [==============================] - 12s 496ms/step - loss: 0.3167 - acc: 0.8459 - val_loss: 0.3039 - val_acc: 0.8447\n",
      "Epoch 5/50\n",
      "24/24 [==============================] - 12s 495ms/step - loss: 0.2728 - acc: 0.8726 - val_loss: 0.2284 - val_acc: 0.8820\n",
      "Epoch 6/50\n",
      "24/24 [==============================] - 12s 496ms/step - loss: 0.2732 - acc: 0.8773 - val_loss: 0.2657 - val_acc: 0.8634\n",
      "Epoch 7/50\n",
      "24/24 [==============================] - 12s 497ms/step - loss: 0.2499 - acc: 0.8900 - val_loss: 0.2300 - val_acc: 0.8944\n",
      "Epoch 8/50\n",
      "24/24 [==============================] - 12s 515ms/step - loss: 0.2336 - acc: 0.9001 - val_loss: 0.2263 - val_acc: 0.8696\n",
      "Epoch 9/50\n",
      "24/24 [==============================] - 12s 495ms/step - loss: 0.2381 - acc: 0.8959 - val_loss: 0.2489 - val_acc: 0.8758\n",
      "Epoch 10/50\n",
      "24/24 [==============================] - 12s 515ms/step - loss: 0.2267 - acc: 0.9066 - val_loss: 0.2254 - val_acc: 0.8820\n",
      "Epoch 11/50\n",
      "24/24 [==============================] - 12s 514ms/step - loss: 0.2329 - acc: 0.9029 - val_loss: 0.2112 - val_acc: 0.9068\n",
      "Epoch 12/50\n",
      "24/24 [==============================] - 12s 494ms/step - loss: 0.2255 - acc: 0.9110 - val_loss: 0.2342 - val_acc: 0.8882\n",
      "Epoch 13/50\n",
      "24/24 [==============================] - 12s 496ms/step - loss: 0.2004 - acc: 0.9175 - val_loss: 0.2297 - val_acc: 0.8634\n",
      "Epoch 14/50\n",
      "24/24 [==============================] - 12s 496ms/step - loss: 0.1874 - acc: 0.9225 - val_loss: 0.2745 - val_acc: 0.8758\n",
      "Epoch 15/50\n",
      "24/24 [==============================] - 12s 495ms/step - loss: 0.2185 - acc: 0.9062 - val_loss: 0.2233 - val_acc: 0.8944\n",
      "Epoch 16/50\n",
      "24/24 [==============================] - 12s 496ms/step - loss: 0.2026 - acc: 0.9145 - val_loss: 0.2254 - val_acc: 0.9006\n",
      "Epoch 17/50\n",
      "24/24 [==============================] - 12s 496ms/step - loss: 0.2080 - acc: 0.9097 - val_loss: 0.2305 - val_acc: 0.8944\n",
      "Epoch 18/50\n",
      "24/24 [==============================] - 12s 495ms/step - loss: 0.1979 - acc: 0.9164 - val_loss: 0.2203 - val_acc: 0.8944\n",
      "Epoch 19/50\n",
      "24/24 [==============================] - 12s 496ms/step - loss: 0.1934 - acc: 0.9206 - val_loss: 0.2115 - val_acc: 0.9006\n",
      "Epoch 20/50\n",
      "24/24 [==============================] - 12s 495ms/step - loss: 0.1893 - acc: 0.9190 - val_loss: 0.2175 - val_acc: 0.9006\n",
      "Epoch 21/50\n",
      "24/24 [==============================] - 12s 514ms/step - loss: 0.1776 - acc: 0.9312 - val_loss: 0.2012 - val_acc: 0.9006\n",
      "Epoch 22/50\n",
      "24/24 [==============================] - 12s 494ms/step - loss: 0.1882 - acc: 0.9265 - val_loss: 0.2213 - val_acc: 0.8944\n",
      "Epoch 23/50\n",
      "24/24 [==============================] - 12s 489ms/step - loss: 0.1680 - acc: 0.9302 - val_loss: 0.2339 - val_acc: 0.9006\n",
      "Epoch 24/50\n",
      "24/24 [==============================] - 12s 496ms/step - loss: 0.1670 - acc: 0.9292 - val_loss: 0.2096 - val_acc: 0.9006\n",
      "Epoch 25/50\n",
      "24/24 [==============================] - 12s 514ms/step - loss: 0.1602 - acc: 0.9294 - val_loss: 0.1925 - val_acc: 0.9130\n",
      "Epoch 26/50\n",
      "24/24 [==============================] - 12s 495ms/step - loss: 0.1829 - acc: 0.9250 - val_loss: 0.2017 - val_acc: 0.8944\n",
      "Epoch 27/50\n",
      "24/24 [==============================] - 12s 496ms/step - loss: 0.1510 - acc: 0.9382 - val_loss: 0.2094 - val_acc: 0.8944\n",
      "Epoch 28/50\n",
      "24/24 [==============================] - 12s 494ms/step - loss: 0.1464 - acc: 0.9384 - val_loss: 0.2326 - val_acc: 0.9068\n",
      "Epoch 29/50\n",
      "24/24 [==============================] - 12s 495ms/step - loss: 0.1676 - acc: 0.9315 - val_loss: 0.2224 - val_acc: 0.9006\n",
      "Epoch 30/50\n",
      "24/24 [==============================] - 12s 495ms/step - loss: 0.1411 - acc: 0.9371 - val_loss: 0.2385 - val_acc: 0.8944\n",
      "Epoch 31/50\n",
      "24/24 [==============================] - 12s 495ms/step - loss: 0.1452 - acc: 0.9380 - val_loss: 0.1986 - val_acc: 0.9255\n",
      "Epoch 32/50\n",
      "24/24 [==============================] - 12s 495ms/step - loss: 0.1565 - acc: 0.9328 - val_loss: 0.2042 - val_acc: 0.9130\n",
      "Epoch 33/50\n",
      "24/24 [==============================] - 12s 495ms/step - loss: 0.1519 - acc: 0.9373 - val_loss: 0.2675 - val_acc: 0.8944\n",
      "Epoch 34/50\n",
      "24/24 [==============================] - 12s 495ms/step - loss: 0.1553 - acc: 0.9363 - val_loss: 0.2072 - val_acc: 0.9255\n",
      "Epoch 35/50\n",
      "24/24 [==============================] - 12s 494ms/step - loss: 0.1377 - acc: 0.9399 - val_loss: 0.2066 - val_acc: 0.9068\n",
      "Train loss: 0.118729914073\n",
      "Train accuracy: 0.952875952876\n",
      "Test loss: 0.192499478781\n",
      "Test accuracy: 0.913043478261\n",
      "\n",
      "===================FOLD= 3\n",
      "Epoch 1/50\n",
      "24/24 [==============================] - 15s 619ms/step - loss: 0.6889 - acc: 0.5824 - val_loss: 0.4517 - val_acc: 0.7688\n",
      "Epoch 2/50\n",
      "24/24 [==============================] - 12s 495ms/step - loss: 0.6562 - acc: 0.6158 - val_loss: 0.5398 - val_acc: 0.7375\n",
      "Epoch 3/50\n",
      "24/24 [==============================] - 12s 513ms/step - loss: 0.5713 - acc: 0.6645 - val_loss: 0.3641 - val_acc: 0.8187\n",
      "Epoch 4/50\n",
      "24/24 [==============================] - 12s 513ms/step - loss: 0.4239 - acc: 0.7888 - val_loss: 0.3098 - val_acc: 0.8375\n",
      "Epoch 5/50\n",
      "24/24 [==============================] - 12s 515ms/step - loss: 0.3221 - acc: 0.8534 - val_loss: 0.2599 - val_acc: 0.8688\n",
      "Epoch 6/50\n",
      "24/24 [==============================] - 12s 513ms/step - loss: 0.3107 - acc: 0.8518 - val_loss: 0.2460 - val_acc: 0.8688\n",
      "Epoch 7/50\n",
      "24/24 [==============================] - 12s 514ms/step - loss: 0.2813 - acc: 0.8723 - val_loss: 0.2403 - val_acc: 0.8750\n",
      "Epoch 8/50\n",
      "24/24 [==============================] - 12s 513ms/step - loss: 0.2822 - acc: 0.8796 - val_loss: 0.2321 - val_acc: 0.9062\n",
      "Epoch 9/50\n",
      "24/24 [==============================] - 12s 512ms/step - loss: 0.2517 - acc: 0.8824 - val_loss: 0.2270 - val_acc: 0.8875\n",
      "Epoch 10/50\n",
      "24/24 [==============================] - 12s 512ms/step - loss: 0.2497 - acc: 0.8906 - val_loss: 0.2160 - val_acc: 0.8938\n",
      "Epoch 11/50\n",
      "24/24 [==============================] - 12s 512ms/step - loss: 0.2405 - acc: 0.8901 - val_loss: 0.2078 - val_acc: 0.9125\n",
      "Epoch 12/50\n",
      "24/24 [==============================] - 12s 514ms/step - loss: 0.2145 - acc: 0.9085 - val_loss: 0.1992 - val_acc: 0.9187\n",
      "Epoch 13/50\n",
      "24/24 [==============================] - 12s 493ms/step - loss: 0.2158 - acc: 0.9151 - val_loss: 0.2236 - val_acc: 0.9000\n",
      "Epoch 14/50\n",
      "24/24 [==============================] - 12s 494ms/step - loss: 0.2093 - acc: 0.9143 - val_loss: 0.2120 - val_acc: 0.9125\n",
      "Epoch 15/50\n",
      "24/24 [==============================] - 12s 514ms/step - loss: 0.2305 - acc: 0.9013 - val_loss: 0.1871 - val_acc: 0.9187\n",
      "Epoch 16/50\n",
      "24/24 [==============================] - 12s 512ms/step - loss: 0.2118 - acc: 0.9152 - val_loss: 0.1859 - val_acc: 0.9062\n",
      "Epoch 17/50\n",
      "24/24 [==============================] - 12s 493ms/step - loss: 0.1931 - acc: 0.9153 - val_loss: 0.2209 - val_acc: 0.8875\n",
      "Epoch 18/50\n",
      "24/24 [==============================] - 12s 494ms/step - loss: 0.2107 - acc: 0.9142 - val_loss: 0.2002 - val_acc: 0.9187\n",
      "Epoch 19/50\n",
      "24/24 [==============================] - 12s 513ms/step - loss: 0.2050 - acc: 0.9168 - val_loss: 0.1814 - val_acc: 0.9187\n",
      "Epoch 20/50\n",
      "24/24 [==============================] - 12s 494ms/step - loss: 0.1945 - acc: 0.9186 - val_loss: 0.1935 - val_acc: 0.9313\n",
      "Epoch 21/50\n",
      "24/24 [==============================] - 12s 493ms/step - loss: 0.1840 - acc: 0.9280 - val_loss: 0.1978 - val_acc: 0.9187\n",
      "Epoch 22/50\n",
      "24/24 [==============================] - 12s 494ms/step - loss: 0.1844 - acc: 0.9249 - val_loss: 0.2036 - val_acc: 0.9250\n",
      "Epoch 23/50\n",
      "24/24 [==============================] - 12s 500ms/step - loss: 0.1850 - acc: 0.9285 - val_loss: 0.1982 - val_acc: 0.9063\n",
      "Epoch 24/50\n",
      "24/24 [==============================] - 12s 494ms/step - loss: 0.1832 - acc: 0.9221 - val_loss: 0.2323 - val_acc: 0.9062\n",
      "Epoch 25/50\n",
      "24/24 [==============================] - 12s 493ms/step - loss: 0.1736 - acc: 0.9319 - val_loss: 0.2598 - val_acc: 0.9000\n",
      "Epoch 26/50\n",
      "24/24 [==============================] - 12s 495ms/step - loss: 0.1774 - acc: 0.9261 - val_loss: 0.3412 - val_acc: 0.8750\n",
      "Epoch 27/50\n",
      "24/24 [==============================] - 12s 493ms/step - loss: 0.1666 - acc: 0.9344 - val_loss: 0.2232 - val_acc: 0.9187\n",
      "Epoch 28/50\n",
      "24/24 [==============================] - 12s 494ms/step - loss: 0.1496 - acc: 0.9417 - val_loss: 0.1918 - val_acc: 0.9187\n",
      "Epoch 29/50\n",
      "24/24 [==============================] - 12s 494ms/step - loss: 0.1706 - acc: 0.9254 - val_loss: 0.2370 - val_acc: 0.9125\n",
      "Train loss: 0.147803950013\n",
      "Train accuracy: 0.941828254848\n",
      "Test loss: 0.181395292282\n",
      "Test accuracy: 0.91875\n",
      "\n",
      "===================FOLD= 4\n",
      "Epoch 1/50\n",
      "24/24 [==============================] - 14s 567ms/step - loss: 0.6486 - acc: 0.6270 - val_loss: 0.3933 - val_acc: 0.8125\n",
      "Epoch 2/50\n",
      "24/24 [==============================] - 12s 515ms/step - loss: 0.3780 - acc: 0.8072 - val_loss: 0.2422 - val_acc: 0.9250\n",
      "Epoch 3/50\n",
      "24/24 [==============================] - 12s 516ms/step - loss: 0.3231 - acc: 0.8428 - val_loss: 0.2045 - val_acc: 0.9500\n",
      "Epoch 4/50\n",
      "24/24 [==============================] - 12s 516ms/step - loss: 0.3279 - acc: 0.8438 - val_loss: 0.1926 - val_acc: 0.9500\n",
      "Epoch 5/50\n",
      "24/24 [==============================] - 12s 516ms/step - loss: 0.2840 - acc: 0.8704 - val_loss: 0.1880 - val_acc: 0.9437\n",
      "Epoch 6/50\n",
      "24/24 [==============================] - 12s 513ms/step - loss: 0.2730 - acc: 0.8805 - val_loss: 0.1639 - val_acc: 0.9625\n",
      "Epoch 7/50\n",
      "24/24 [==============================] - 12s 495ms/step - loss: 0.2500 - acc: 0.8920 - val_loss: 0.1971 - val_acc: 0.9375\n",
      "Epoch 8/50\n",
      "24/24 [==============================] - 12s 495ms/step - loss: 0.2458 - acc: 0.8899 - val_loss: 0.1829 - val_acc: 0.9313\n",
      "Epoch 9/50\n",
      "24/24 [==============================] - 12s 514ms/step - loss: 0.2273 - acc: 0.9116 - val_loss: 0.1341 - val_acc: 0.9437\n",
      "Epoch 10/50\n",
      "24/24 [==============================] - 12s 495ms/step - loss: 0.2316 - acc: 0.9021 - val_loss: 0.1522 - val_acc: 0.9563\n",
      "Epoch 11/50\n",
      "24/24 [==============================] - 12s 495ms/step - loss: 0.2164 - acc: 0.9047 - val_loss: 0.1562 - val_acc: 0.9437\n",
      "Epoch 12/50\n",
      "24/24 [==============================] - 12s 495ms/step - loss: 0.2144 - acc: 0.9098 - val_loss: 0.1581 - val_acc: 0.9437\n",
      "Epoch 13/50\n",
      "24/24 [==============================] - 12s 495ms/step - loss: 0.2194 - acc: 0.9090 - val_loss: 0.1631 - val_acc: 0.9437\n",
      "Epoch 14/50\n",
      "24/24 [==============================] - 12s 495ms/step - loss: 0.2021 - acc: 0.9150 - val_loss: 0.1420 - val_acc: 0.9625\n",
      "Epoch 15/50\n",
      "24/24 [==============================] - 12s 494ms/step - loss: 0.2052 - acc: 0.9091 - val_loss: 0.1409 - val_acc: 0.9563\n",
      "Epoch 16/50\n",
      "24/24 [==============================] - 12s 495ms/step - loss: 0.2302 - acc: 0.9021 - val_loss: 0.1375 - val_acc: 0.9625\n",
      "Epoch 17/50\n",
      "24/24 [==============================] - 12s 496ms/step - loss: 0.2000 - acc: 0.9108 - val_loss: 0.1928 - val_acc: 0.9313\n",
      "Epoch 18/50\n",
      "24/24 [==============================] - 12s 494ms/step - loss: 0.1827 - acc: 0.9228 - val_loss: 0.1790 - val_acc: 0.9313\n",
      "Epoch 19/50\n",
      "24/24 [==============================] - 12s 495ms/step - loss: 0.2061 - acc: 0.9103 - val_loss: 0.1660 - val_acc: 0.9437\n",
      "Train loss: 0.195056848827\n",
      "Train accuracy: 0.916897506925\n",
      "Test loss: 0.134090191126\n",
      "Test accuracy: 0.94375\n",
      "\n",
      "===================FOLD= 5\n",
      "Epoch 1/50\n",
      "24/24 [==============================] - 14s 565ms/step - loss: 0.8026 - acc: 0.6218 - val_loss: 0.4487 - val_acc: 0.7875\n",
      "Epoch 2/50\n",
      "24/24 [==============================] - 12s 495ms/step - loss: 0.4760 - acc: 0.7964 - val_loss: 0.4563 - val_acc: 0.8438\n",
      "Epoch 3/50\n",
      "24/24 [==============================] - 12s 514ms/step - loss: 0.3869 - acc: 0.8181 - val_loss: 0.2823 - val_acc: 0.8875\n",
      "Epoch 4/50\n",
      "24/24 [==============================] - 12s 513ms/step - loss: 0.3216 - acc: 0.8645 - val_loss: 0.2307 - val_acc: 0.8875\n",
      "Epoch 5/50\n",
      "24/24 [==============================] - 12s 514ms/step - loss: 0.3108 - acc: 0.8656 - val_loss: 0.2219 - val_acc: 0.9250\n",
      "Epoch 6/50\n",
      "24/24 [==============================] - 12s 514ms/step - loss: 0.2761 - acc: 0.8824 - val_loss: 0.2027 - val_acc: 0.9062\n",
      "Epoch 7/50\n",
      "24/24 [==============================] - 12s 514ms/step - loss: 0.2486 - acc: 0.8941 - val_loss: 0.1917 - val_acc: 0.9187\n",
      "Epoch 8/50\n",
      "24/24 [==============================] - 12s 495ms/step - loss: 0.2631 - acc: 0.8816 - val_loss: 0.1976 - val_acc: 0.9313\n",
      "Epoch 9/50\n",
      "24/24 [==============================] - 12s 514ms/step - loss: 0.2412 - acc: 0.8941 - val_loss: 0.1895 - val_acc: 0.9250\n",
      "Epoch 10/50\n",
      "24/24 [==============================] - 12s 513ms/step - loss: 0.2228 - acc: 0.9026 - val_loss: 0.1892 - val_acc: 0.9125\n",
      "Epoch 11/50\n",
      "24/24 [==============================] - 12s 516ms/step - loss: 0.2123 - acc: 0.9052 - val_loss: 0.1499 - val_acc: 0.9375\n",
      "Epoch 12/50\n",
      "24/24 [==============================] - 12s 496ms/step - loss: 0.2079 - acc: 0.9106 - val_loss: 0.1666 - val_acc: 0.9313\n",
      "Epoch 13/50\n",
      "24/24 [==============================] - 12s 496ms/step - loss: 0.2111 - acc: 0.9235 - val_loss: 0.1742 - val_acc: 0.9375\n",
      "Epoch 14/50\n",
      "24/24 [==============================] - 12s 496ms/step - loss: 0.2197 - acc: 0.9117 - val_loss: 0.1671 - val_acc: 0.9437\n",
      "Epoch 15/50\n",
      "24/24 [==============================] - 12s 497ms/step - loss: 0.1835 - acc: 0.9261 - val_loss: 0.1882 - val_acc: 0.9250\n",
      "Epoch 16/50\n",
      "24/24 [==============================] - 12s 495ms/step - loss: 0.2019 - acc: 0.9182 - val_loss: 0.1661 - val_acc: 0.9500\n",
      "Epoch 17/50\n",
      "24/24 [==============================] - 12s 495ms/step - loss: 0.1941 - acc: 0.9095 - val_loss: 0.1801 - val_acc: 0.9375\n",
      "Epoch 18/50\n",
      "24/24 [==============================] - 12s 494ms/step - loss: 0.1919 - acc: 0.9204 - val_loss: 0.1921 - val_acc: 0.9187\n",
      "Epoch 19/50\n",
      "24/24 [==============================] - 12s 495ms/step - loss: 0.1917 - acc: 0.9155 - val_loss: 0.1999 - val_acc: 0.9187\n",
      "Epoch 20/50\n",
      "24/24 [==============================] - 12s 495ms/step - loss: 0.1652 - acc: 0.9285 - val_loss: 0.1979 - val_acc: 0.9062\n",
      "Epoch 21/50\n",
      "24/24 [==============================] - 12s 495ms/step - loss: 0.1808 - acc: 0.9256 - val_loss: 0.2096 - val_acc: 0.9125\n",
      "Train loss: 0.160503550992\n",
      "Train accuracy: 0.93351800554\n",
      "Test loss: 0.14993249625\n",
      "Test accuracy: 0.9375\n",
      "\n",
      "===================FOLD= 6\n",
      "Epoch 1/50\n",
      "24/24 [==============================] - 14s 586ms/step - loss: 0.6779 - acc: 0.6045 - val_loss: 0.4684 - val_acc: 0.7688\n",
      "Epoch 2/50\n",
      "24/24 [==============================] - 12s 513ms/step - loss: 0.5343 - acc: 0.7472 - val_loss: 0.4664 - val_acc: 0.7625\n",
      "Epoch 3/50\n",
      "24/24 [==============================] - 12s 514ms/step - loss: 0.3584 - acc: 0.8392 - val_loss: 0.3609 - val_acc: 0.8375\n",
      "Epoch 4/50\n",
      "24/24 [==============================] - 12s 513ms/step - loss: 0.2846 - acc: 0.8730 - val_loss: 0.3434 - val_acc: 0.8812\n",
      "Epoch 5/50\n",
      "24/24 [==============================] - 12s 514ms/step - loss: 0.2748 - acc: 0.8738 - val_loss: 0.3328 - val_acc: 0.8812\n",
      "Epoch 6/50\n",
      "24/24 [==============================] - 12s 513ms/step - loss: 0.2606 - acc: 0.8863 - val_loss: 0.3003 - val_acc: 0.8875\n",
      "Epoch 7/50\n",
      "24/24 [==============================] - 12s 495ms/step - loss: 0.2467 - acc: 0.8971 - val_loss: 0.3372 - val_acc: 0.8688\n",
      "Epoch 8/50\n"
     ]
    },
    {
     "name": "stdout",
     "output_type": "stream",
     "text": [
      "24/24 [==============================] - 12s 515ms/step - loss: 0.2276 - acc: 0.9108 - val_loss: 0.2831 - val_acc: 0.8875\n",
      "Epoch 9/50\n",
      "24/24 [==============================] - 12s 496ms/step - loss: 0.2227 - acc: 0.9054 - val_loss: 0.3015 - val_acc: 0.8812\n",
      "Epoch 10/50\n",
      "24/24 [==============================] - 12s 515ms/step - loss: 0.2025 - acc: 0.9194 - val_loss: 0.2693 - val_acc: 0.8750\n",
      "Epoch 11/50\n",
      "24/24 [==============================] - 12s 495ms/step - loss: 0.2113 - acc: 0.9081 - val_loss: 0.2969 - val_acc: 0.8875\n",
      "Epoch 12/50\n",
      "24/24 [==============================] - 12s 495ms/step - loss: 0.1980 - acc: 0.9160 - val_loss: 0.3512 - val_acc: 0.8562\n",
      "Epoch 13/50\n",
      "24/24 [==============================] - 12s 495ms/step - loss: 0.2062 - acc: 0.9134 - val_loss: 0.2810 - val_acc: 0.8938\n",
      "Epoch 14/50\n",
      "24/24 [==============================] - 12s 496ms/step - loss: 0.1899 - acc: 0.9241 - val_loss: 0.2735 - val_acc: 0.9000\n",
      "Epoch 15/50\n",
      "24/24 [==============================] - 12s 514ms/step - loss: 0.2049 - acc: 0.9127 - val_loss: 0.2446 - val_acc: 0.9062\n",
      "Epoch 16/50\n",
      "24/24 [==============================] - 12s 495ms/step - loss: 0.1922 - acc: 0.9161 - val_loss: 0.2635 - val_acc: 0.8875\n",
      "Epoch 17/50\n",
      "24/24 [==============================] - 12s 496ms/step - loss: 0.1811 - acc: 0.9264 - val_loss: 0.2682 - val_acc: 0.8750\n",
      "Epoch 18/50\n",
      "24/24 [==============================] - 12s 495ms/step - loss: 0.1691 - acc: 0.9311 - val_loss: 0.2712 - val_acc: 0.8938\n",
      "Epoch 19/50\n",
      "24/24 [==============================] - 12s 495ms/step - loss: 0.1780 - acc: 0.9283 - val_loss: 0.2891 - val_acc: 0.8875\n",
      "Epoch 20/50\n",
      "24/24 [==============================] - 12s 494ms/step - loss: 0.1544 - acc: 0.9389 - val_loss: 0.3221 - val_acc: 0.9062\n",
      "Epoch 21/50\n",
      "24/24 [==============================] - 12s 496ms/step - loss: 0.1678 - acc: 0.9290 - val_loss: 0.2648 - val_acc: 0.9000\n",
      "Epoch 22/50\n",
      "24/24 [==============================] - 12s 494ms/step - loss: 0.1584 - acc: 0.9376 - val_loss: 0.2762 - val_acc: 0.8750\n",
      "Epoch 23/50\n",
      "24/24 [==============================] - 12s 489ms/step - loss: 0.1772 - acc: 0.9281 - val_loss: 0.3855 - val_acc: 0.8625\n",
      "Epoch 24/50\n",
      "24/24 [==============================] - 12s 495ms/step - loss: 0.1491 - acc: 0.9464 - val_loss: 0.3612 - val_acc: 0.8750\n",
      "Epoch 25/50\n",
      "24/24 [==============================] - 12s 495ms/step - loss: 0.1657 - acc: 0.9379 - val_loss: 0.3312 - val_acc: 0.8313\n",
      "Train loss: 0.173735600058\n",
      "Train accuracy: 0.919667590028\n",
      "Test loss: 0.2446318537\n",
      "Test accuracy: 0.90625\n",
      "\n",
      "===================FOLD= 7\n",
      "Epoch 1/50\n",
      "24/24 [==============================] - 14s 580ms/step - loss: 0.9854 - acc: 0.5853 - val_loss: 0.4405 - val_acc: 0.7625\n",
      "Epoch 2/50\n",
      "24/24 [==============================] - 12s 512ms/step - loss: 0.4913 - acc: 0.7747 - val_loss: 0.2724 - val_acc: 0.8812\n",
      "Epoch 3/50\n",
      "24/24 [==============================] - 12s 494ms/step - loss: 0.3459 - acc: 0.8415 - val_loss: 0.2939 - val_acc: 0.8438\n",
      "Epoch 4/50\n",
      "24/24 [==============================] - 12s 513ms/step - loss: 0.3528 - acc: 0.8410 - val_loss: 0.2706 - val_acc: 0.8625\n",
      "Epoch 5/50\n",
      "24/24 [==============================] - 12s 513ms/step - loss: 0.2963 - acc: 0.8694 - val_loss: 0.2342 - val_acc: 0.8938\n",
      "Epoch 6/50\n",
      "24/24 [==============================] - 12s 494ms/step - loss: 0.2887 - acc: 0.8818 - val_loss: 0.2571 - val_acc: 0.8812\n",
      "Epoch 7/50\n",
      "24/24 [==============================] - 12s 495ms/step - loss: 0.2558 - acc: 0.8893 - val_loss: 0.2699 - val_acc: 0.8938\n",
      "Epoch 8/50\n",
      "24/24 [==============================] - 12s 516ms/step - loss: 0.2404 - acc: 0.8966 - val_loss: 0.2146 - val_acc: 0.8812\n",
      "Epoch 9/50\n",
      "24/24 [==============================] - 12s 495ms/step - loss: 0.2463 - acc: 0.8979 - val_loss: 0.2784 - val_acc: 0.8938\n",
      "Epoch 10/50\n",
      "24/24 [==============================] - 12s 496ms/step - loss: 0.2260 - acc: 0.9010 - val_loss: 0.2483 - val_acc: 0.8938\n",
      "Epoch 11/50\n",
      "24/24 [==============================] - 12s 496ms/step - loss: 0.2096 - acc: 0.9189 - val_loss: 0.2263 - val_acc: 0.8875\n",
      "Epoch 12/50\n",
      "24/24 [==============================] - 12s 514ms/step - loss: 0.2395 - acc: 0.8990 - val_loss: 0.2122 - val_acc: 0.9062\n",
      "Epoch 13/50\n",
      "24/24 [==============================] - 12s 514ms/step - loss: 0.2104 - acc: 0.9153 - val_loss: 0.2004 - val_acc: 0.9250\n",
      "Epoch 14/50\n",
      "24/24 [==============================] - 12s 514ms/step - loss: 0.2126 - acc: 0.9148 - val_loss: 0.1922 - val_acc: 0.9000\n",
      "Epoch 15/50\n",
      "24/24 [==============================] - 12s 495ms/step - loss: 0.1963 - acc: 0.9217 - val_loss: 0.2025 - val_acc: 0.9125\n",
      "Epoch 16/50\n",
      "24/24 [==============================] - 12s 497ms/step - loss: 0.2285 - acc: 0.9093 - val_loss: 0.2165 - val_acc: 0.9187\n",
      "Epoch 17/50\n",
      "24/24 [==============================] - 12s 495ms/step - loss: 0.1663 - acc: 0.9402 - val_loss: 0.2205 - val_acc: 0.9125\n",
      "Epoch 18/50\n",
      "24/24 [==============================] - 12s 494ms/step - loss: 0.2146 - acc: 0.9124 - val_loss: 0.2378 - val_acc: 0.8750\n",
      "Epoch 19/50\n",
      "24/24 [==============================] - 12s 496ms/step - loss: 0.1665 - acc: 0.9358 - val_loss: 0.2047 - val_acc: 0.9125\n",
      "Epoch 20/50\n",
      "24/24 [==============================] - 12s 496ms/step - loss: 0.1990 - acc: 0.9199 - val_loss: 0.2083 - val_acc: 0.9000\n",
      "Epoch 21/50\n",
      "24/24 [==============================] - 12s 514ms/step - loss: 0.1841 - acc: 0.9202 - val_loss: 0.1808 - val_acc: 0.9250\n",
      "Epoch 22/50\n",
      "24/24 [==============================] - 12s 513ms/step - loss: 0.1845 - acc: 0.9308 - val_loss: 0.1779 - val_acc: 0.9062\n",
      "Epoch 23/50\n",
      "24/24 [==============================] - 12s 490ms/step - loss: 0.1608 - acc: 0.9368 - val_loss: 0.2162 - val_acc: 0.9063\n",
      "Epoch 24/50\n",
      "24/24 [==============================] - 12s 495ms/step - loss: 0.1896 - acc: 0.9261 - val_loss: 0.2246 - val_acc: 0.9000\n",
      "Epoch 25/50\n",
      "24/24 [==============================] - 12s 495ms/step - loss: 0.1811 - acc: 0.9269 - val_loss: 0.2119 - val_acc: 0.9125\n",
      "Epoch 26/50\n",
      "24/24 [==============================] - 12s 494ms/step - loss: 0.1746 - acc: 0.9344 - val_loss: 0.1972 - val_acc: 0.9125\n",
      "Epoch 27/50\n",
      "24/24 [==============================] - 12s 514ms/step - loss: 0.1472 - acc: 0.9425 - val_loss: 0.1743 - val_acc: 0.9250\n",
      "Epoch 28/50\n",
      "24/24 [==============================] - 12s 494ms/step - loss: 0.1666 - acc: 0.9300 - val_loss: 0.2041 - val_acc: 0.9062\n",
      "Epoch 29/50\n",
      "24/24 [==============================] - 12s 495ms/step - loss: 0.1540 - acc: 0.9406 - val_loss: 0.1930 - val_acc: 0.9187\n",
      "Epoch 30/50\n",
      "24/24 [==============================] - 12s 495ms/step - loss: 0.1575 - acc: 0.9399 - val_loss: 0.2176 - val_acc: 0.9000\n",
      "Epoch 31/50\n",
      "24/24 [==============================] - 12s 496ms/step - loss: 0.1363 - acc: 0.9459 - val_loss: 0.1942 - val_acc: 0.9250\n",
      "Epoch 32/50\n",
      "24/24 [==============================] - 12s 495ms/step - loss: 0.1394 - acc: 0.9500 - val_loss: 0.1904 - val_acc: 0.9125\n",
      "Epoch 33/50\n",
      "24/24 [==============================] - 12s 496ms/step - loss: 0.1510 - acc: 0.9412 - val_loss: 0.1985 - val_acc: 0.9187\n",
      "Epoch 34/50\n",
      "24/24 [==============================] - 12s 494ms/step - loss: 0.1353 - acc: 0.9459 - val_loss: 0.1879 - val_acc: 0.9125\n",
      "Epoch 35/50\n",
      "24/24 [==============================] - 12s 495ms/step - loss: 0.1381 - acc: 0.9482 - val_loss: 0.1767 - val_acc: 0.9250\n",
      "Epoch 36/50\n",
      "24/24 [==============================] - 12s 494ms/step - loss: 0.1248 - acc: 0.9479 - val_loss: 0.2018 - val_acc: 0.9000\n",
      "Epoch 37/50\n",
      "24/24 [==============================] - 12s 495ms/step - loss: 0.1455 - acc: 0.9494 - val_loss: 0.2218 - val_acc: 0.8812\n",
      "Train loss: 0.105302518198\n",
      "Train accuracy: 0.961911357341\n",
      "Test loss: 0.174281066656\n",
      "Test accuracy: 0.925\n",
      "\n",
      "===================FOLD= 8\n",
      "Epoch 1/50\n",
      "24/24 [==============================] - 14s 578ms/step - loss: 0.7484 - acc: 0.6194 - val_loss: 0.4445 - val_acc: 0.7750\n",
      "Epoch 2/50\n",
      "24/24 [==============================] - 12s 513ms/step - loss: 0.4254 - acc: 0.7920 - val_loss: 0.3719 - val_acc: 0.8125\n",
      "Epoch 3/50\n",
      "24/24 [==============================] - 12s 495ms/step - loss: 0.3559 - acc: 0.8440 - val_loss: 0.3811 - val_acc: 0.8000\n",
      "Epoch 4/50\n",
      "24/24 [==============================] - 12s 514ms/step - loss: 0.2953 - acc: 0.8772 - val_loss: 0.3467 - val_acc: 0.8500\n",
      "Epoch 5/50\n",
      "24/24 [==============================] - 12s 496ms/step - loss: 0.2783 - acc: 0.8819 - val_loss: 0.3486 - val_acc: 0.8500\n",
      "Epoch 6/50\n",
      "24/24 [==============================] - 12s 496ms/step - loss: 0.2476 - acc: 0.8969 - val_loss: 0.4044 - val_acc: 0.8562\n",
      "Epoch 7/50\n",
      "24/24 [==============================] - 12s 495ms/step - loss: 0.2699 - acc: 0.8878 - val_loss: 0.3531 - val_acc: 0.8500\n",
      "Epoch 8/50\n",
      "24/24 [==============================] - 12s 495ms/step - loss: 0.2413 - acc: 0.9034 - val_loss: 0.3806 - val_acc: 0.8562\n",
      "Epoch 9/50\n",
      "24/24 [==============================] - 12s 496ms/step - loss: 0.2383 - acc: 0.8984 - val_loss: 0.3523 - val_acc: 0.8625\n",
      "Epoch 10/50\n",
      "24/24 [==============================] - 12s 496ms/step - loss: 0.2020 - acc: 0.9254 - val_loss: 0.3512 - val_acc: 0.8688\n",
      "Epoch 11/50\n",
      "24/24 [==============================] - 12s 516ms/step - loss: 0.1998 - acc: 0.9220 - val_loss: 0.3222 - val_acc: 0.8500\n",
      "Epoch 12/50\n",
      "24/24 [==============================] - 12s 495ms/step - loss: 0.2092 - acc: 0.9181 - val_loss: 0.3340 - val_acc: 0.8688\n",
      "Epoch 13/50\n",
      "24/24 [==============================] - 12s 497ms/step - loss: 0.1914 - acc: 0.9233 - val_loss: 0.3333 - val_acc: 0.8375\n",
      "Epoch 14/50\n",
      "24/24 [==============================] - 12s 495ms/step - loss: 0.1881 - acc: 0.9269 - val_loss: 0.3439 - val_acc: 0.8375\n",
      "Epoch 15/50\n",
      "24/24 [==============================] - 12s 494ms/step - loss: 0.1788 - acc: 0.9257 - val_loss: 0.3614 - val_acc: 0.8688\n",
      "Epoch 16/50\n",
      "24/24 [==============================] - 12s 496ms/step - loss: 0.1853 - acc: 0.9254 - val_loss: 0.3864 - val_acc: 0.8562\n",
      "Epoch 17/50\n",
      "24/24 [==============================] - 12s 496ms/step - loss: 0.2146 - acc: 0.9075 - val_loss: 0.3228 - val_acc: 0.8688\n",
      "Epoch 18/50\n",
      "24/24 [==============================] - 12s 514ms/step - loss: 0.1738 - acc: 0.9366 - val_loss: 0.3214 - val_acc: 0.8562\n",
      "Epoch 19/50\n",
      "24/24 [==============================] - 12s 494ms/step - loss: 0.1739 - acc: 0.9283 - val_loss: 0.3222 - val_acc: 0.8750\n",
      "Epoch 20/50\n",
      "24/24 [==============================] - 12s 496ms/step - loss: 0.1777 - acc: 0.9221 - val_loss: 0.3761 - val_acc: 0.8375\n",
      "Epoch 21/50\n",
      "24/24 [==============================] - 12s 514ms/step - loss: 0.1704 - acc: 0.9301 - val_loss: 0.3086 - val_acc: 0.8562\n",
      "Epoch 22/50\n",
      "24/24 [==============================] - 12s 496ms/step - loss: 0.1610 - acc: 0.9388 - val_loss: 0.3160 - val_acc: 0.8562\n",
      "Epoch 23/50\n",
      "24/24 [==============================] - 12s 490ms/step - loss: 0.1608 - acc: 0.9351 - val_loss: 0.3164 - val_acc: 0.8687\n",
      "Epoch 24/50\n",
      "24/24 [==============================] - 12s 495ms/step - loss: 0.1623 - acc: 0.9355 - val_loss: 0.3445 - val_acc: 0.8625\n",
      "Epoch 25/50\n",
      "24/24 [==============================] - 12s 497ms/step - loss: 0.1599 - acc: 0.9365 - val_loss: 0.3470 - val_acc: 0.8438\n",
      "Epoch 26/50\n",
      "24/24 [==============================] - 12s 496ms/step - loss: 0.1472 - acc: 0.9381 - val_loss: 0.3571 - val_acc: 0.8250\n",
      "Epoch 27/50\n",
      "24/24 [==============================] - 12s 495ms/step - loss: 0.1529 - acc: 0.9368 - val_loss: 0.3764 - val_acc: 0.8500\n",
      "Epoch 28/50\n",
      "24/24 [==============================] - 12s 513ms/step - loss: 0.1482 - acc: 0.9480 - val_loss: 0.2951 - val_acc: 0.8750\n",
      "Epoch 29/50\n",
      "24/24 [==============================] - 12s 495ms/step - loss: 0.1435 - acc: 0.9397 - val_loss: 0.3488 - val_acc: 0.8500\n",
      "Epoch 30/50\n",
      "24/24 [==============================] - 12s 496ms/step - loss: 0.1325 - acc: 0.9461 - val_loss: 0.3788 - val_acc: 0.8438\n",
      "Epoch 31/50\n",
      "24/24 [==============================] - 12s 496ms/step - loss: 0.1330 - acc: 0.9534 - val_loss: 0.3710 - val_acc: 0.8688\n",
      "Epoch 32/50\n",
      "24/24 [==============================] - 12s 496ms/step - loss: 0.1420 - acc: 0.9458 - val_loss: 0.3846 - val_acc: 0.8500\n",
      "Epoch 33/50\n",
      "24/24 [==============================] - 12s 497ms/step - loss: 0.1429 - acc: 0.9463 - val_loss: 0.3295 - val_acc: 0.8688\n",
      "Epoch 34/50\n",
      "24/24 [==============================] - 12s 495ms/step - loss: 0.1257 - acc: 0.9524 - val_loss: 0.3819 - val_acc: 0.8438\n",
      "Epoch 35/50\n",
      "24/24 [==============================] - 12s 495ms/step - loss: 0.1377 - acc: 0.9456 - val_loss: 0.3771 - val_acc: 0.8500\n",
      "Epoch 36/50\n",
      "24/24 [==============================] - 12s 495ms/step - loss: 0.1362 - acc: 0.9412 - val_loss: 0.3299 - val_acc: 0.8500\n",
      "Epoch 37/50\n",
      "24/24 [==============================] - 12s 496ms/step - loss: 0.1142 - acc: 0.9531 - val_loss: 0.5468 - val_acc: 0.8250\n",
      "Epoch 38/50\n",
      "24/24 [==============================] - 12s 495ms/step - loss: 0.1309 - acc: 0.9463 - val_loss: 0.3325 - val_acc: 0.8625\n",
      "Train loss: 0.106090346934\n",
      "Train accuracy: 0.960526315789\n",
      "Test loss: 0.295113873482\n",
      "Test accuracy: 0.875\n",
      "\n",
      "===================FOLD= 9\n",
      "Epoch 1/50\n",
      "24/24 [==============================] - 14s 599ms/step - loss: 0.7029 - acc: 0.6099 - val_loss: 0.4742 - val_acc: 0.7500\n",
      "Epoch 2/50\n",
      "24/24 [==============================] - 12s 514ms/step - loss: 0.4229 - acc: 0.8028 - val_loss: 0.3617 - val_acc: 0.8063\n",
      "Epoch 3/50\n",
      "24/24 [==============================] - 12s 514ms/step - loss: 0.3246 - acc: 0.8554 - val_loss: 0.2404 - val_acc: 0.9062\n",
      "Epoch 4/50\n",
      "24/24 [==============================] - 12s 494ms/step - loss: 0.3150 - acc: 0.8655 - val_loss: 0.2547 - val_acc: 0.8750\n",
      "Epoch 5/50\n",
      "24/24 [==============================] - 12s 516ms/step - loss: 0.3078 - acc: 0.8594 - val_loss: 0.2404 - val_acc: 0.8938\n",
      "Epoch 6/50\n",
      "24/24 [==============================] - 12s 496ms/step - loss: 0.2829 - acc: 0.8858 - val_loss: 0.2601 - val_acc: 0.8875\n",
      "Epoch 7/50\n",
      "24/24 [==============================] - 12s 517ms/step - loss: 0.2695 - acc: 0.8824 - val_loss: 0.2400 - val_acc: 0.9000\n",
      "Epoch 8/50\n",
      "24/24 [==============================] - 12s 497ms/step - loss: 0.2325 - acc: 0.8893 - val_loss: 0.2416 - val_acc: 0.8938\n",
      "Epoch 9/50\n",
      "24/24 [==============================] - 12s 514ms/step - loss: 0.2390 - acc: 0.8976 - val_loss: 0.2081 - val_acc: 0.9125\n",
      "Epoch 10/50\n",
      "24/24 [==============================] - 12s 496ms/step - loss: 0.2397 - acc: 0.9003 - val_loss: 0.2193 - val_acc: 0.9125\n",
      "Epoch 11/50\n",
      "24/24 [==============================] - 12s 496ms/step - loss: 0.2219 - acc: 0.9046 - val_loss: 0.2904 - val_acc: 0.8562\n",
      "Epoch 12/50\n",
      "24/24 [==============================] - 12s 496ms/step - loss: 0.2213 - acc: 0.9106 - val_loss: 0.2558 - val_acc: 0.9000\n",
      "Epoch 13/50\n",
      "24/24 [==============================] - 12s 496ms/step - loss: 0.2291 - acc: 0.9041 - val_loss: 0.2287 - val_acc: 0.8875\n",
      "Epoch 14/50\n",
      "24/24 [==============================] - 12s 496ms/step - loss: 0.1999 - acc: 0.9223 - val_loss: 0.2486 - val_acc: 0.8938\n",
      "Epoch 15/50\n",
      "24/24 [==============================] - 12s 495ms/step - loss: 0.2219 - acc: 0.9065 - val_loss: 0.2282 - val_acc: 0.9000\n",
      "Epoch 16/50\n",
      "24/24 [==============================] - 12s 496ms/step - loss: 0.1881 - acc: 0.9228 - val_loss: 0.2174 - val_acc: 0.9187\n",
      "Epoch 17/50\n",
      "24/24 [==============================] - 12s 495ms/step - loss: 0.1959 - acc: 0.9217 - val_loss: 0.2225 - val_acc: 0.9125\n",
      "Epoch 18/50\n",
      "24/24 [==============================] - 12s 497ms/step - loss: 0.1912 - acc: 0.9186 - val_loss: 0.2464 - val_acc: 0.9062\n",
      "Epoch 19/50\n",
      "24/24 [==============================] - 12s 496ms/step - loss: 0.1949 - acc: 0.9179 - val_loss: 0.2444 - val_acc: 0.8875\n",
      "Train loss: 0.181820382423\n",
      "Train accuracy: 0.927977839335\n",
      "Test loss: 0.208122503757\n",
      "Test accuracy: 0.9125\n",
      "\n",
      " Train Log Loss Validation=  0.131724694341\n",
      " Test Log Loss Validation=  0.193213699335\n"
     ]
    }
   ],
   "source": [
    "#def myAngleCV(X_train, X_angle, X_test):\n",
    "K=10\n",
    "folds = list(StratifiedKFold(n_splits=K, shuffle=True, random_state=16).split(X_train, target_train))\n",
    "y_test_pred_log = 0\n",
    "y_train_pred_log=0\n",
    "y_valid_pred_log = 0.0*target_train\n",
    "for j, (train_idx, test_idx) in enumerate(folds):\n",
    "    print('\\n===================FOLD=',j)\n",
    "    X_train_cv = X_train[train_idx]\n",
    "    y_train_cv = target_train[train_idx]\n",
    "    X_holdout = X_train[test_idx]\n",
    "    Y_holdout= target_train[test_idx]\n",
    "    \n",
    "    #Angle\n",
    "    X_angle_cv=X_angle[train_idx]\n",
    "    X_angle_hold=X_angle[test_idx]\n",
    "    #define file path and get callbacks\n",
    "    file_path = \"%s_aug_model_weights.hdf5\"%j\n",
    "    callbacks = get_callbacks(filepath=file_path, patience=5)\n",
    "    gen_flow = gen_flow_for_two_inputs(X_train_cv, X_angle_cv, y_train_cv)\n",
    "    galaxyModel= getVggAngleModel()\n",
    "    histr = galaxyModel.fit_generator(\n",
    "            gen_flow,\n",
    "            steps_per_epoch=24,\n",
    "            epochs=50,\n",
    "            shuffle=True,\n",
    "            verbose=1,\n",
    "            validation_data=([X_holdout,X_angle_hold], Y_holdout),\n",
    "            callbacks=callbacks)\n",
    "     #Getting the Best Model\n",
    "    galaxyModel.load_weights(filepath=file_path)\n",
    "    #Getting Training Score\n",
    "    score = galaxyModel.evaluate([X_train_cv,X_angle_cv], y_train_cv, verbose=0)\n",
    "    print('Train loss:', score[0])\n",
    "    print('Train accuracy:', score[1])\n",
    "    #Getting Test Score\n",
    "    score = galaxyModel.evaluate([X_holdout,X_angle_hold], Y_holdout, verbose=0)\n",
    "    print('Test loss:', score[0])\n",
    "    print('Test accuracy:', score[1])\n",
    "\n",
    "    #Getting validation Score.\n",
    "    pred_valid=galaxyModel.predict([X_holdout,X_angle_hold])\n",
    "    y_valid_pred_log[test_idx] = pred_valid.reshape(pred_valid.shape[0])\n",
    "\n",
    "    #Getting Test Scores\n",
    "    temp_test=galaxyModel.predict([X_test, X_test_angle])\n",
    "    y_test_pred_log+=temp_test.reshape(temp_test.shape[0])\n",
    "\n",
    "    #Getting Train Scores\n",
    "    temp_train=galaxyModel.predict([X_train, X_angle])\n",
    "    y_train_pred_log+=temp_train.reshape(temp_train.shape[0])\n",
    "\n",
    "y_test_pred_log=y_test_pred_log/K\n",
    "y_train_pred_log=y_train_pred_log/K\n",
    "\n",
    "print('\\n Train Log Loss Validation= ',log_loss(target_train, y_train_pred_log))\n",
    "print(' Test Log Loss Validation= ',log_loss(target_train, y_valid_pred_log))\n",
    "#return y_test_pred_log"
   ]
  },
  {
   "cell_type": "code",
   "execution_count": 12,
   "metadata": {
    "collapsed": true
   },
   "outputs": [],
   "source": [
    "#preds=myAngleCV(X_train, X_angle, X_test)\n",
    "preds = y_test_pred_log"
   ]
  },
  {
   "cell_type": "code",
   "execution_count": 13,
   "metadata": {
    "collapsed": true
   },
   "outputs": [],
   "source": [
    "# Submission to kaggle\n",
    "submission = pd.DataFrame()\n",
    "submission['id']=test['id']\n",
    "submission['is_iceberg']=preds\n",
    "submission.to_csv('sub_SGD_10folds.csv', index=False)"
   ]
  },
  {
   "cell_type": "code",
   "execution_count": 14,
   "metadata": {},
   "outputs": [
    {
     "name": "stdout",
     "output_type": "stream",
     "text": [
      "dict_keys(['val_acc', 'loss', 'val_loss', 'acc'])\n"
     ]
    },
    {
     "data": {
      "image/png": "[encoded data removed]",
      "text/plain": [
       "<matplotlib.figure.Figure at 0x7f11ea01f978>"
      ]
     },
     "metadata": {},
     "output_type": "display_data"
    },
    {
     "data": {
      "image/png": "[encoded data removed]",
      "text/plain": [
       "<matplotlib.figure.Figure at 0x7f11e9f69748>"
      ]
     },
     "metadata": {},
     "output_type": "display_data"
    }
   ],
   "source": [
    "# list all data in history\n",
    "print(histr.history.keys())\n",
    "# summarize history for accuracy\n",
    "plt.plot(histr.history['acc'])\n",
    "plt.plot(histr.history['val_acc'])\n",
    "plt.title('model accuracy')\n",
    "plt.ylabel('accuracy')\n",
    "plt.xlabel('epoch')\n",
    "plt.legend(['train', 'test'], loc='upper left')\n",
    "plt.show()\n",
    "# summarize history for loss\n",
    "plt.plot(histr.history['loss'])\n",
    "plt.plot(histr.history['val_loss'])\n",
    "plt.title('model loss')\n",
    "plt.ylabel('loss')\n",
    "plt.xlabel('epoch')\n",
    "plt.legend(['train', 'test'], loc='upper left')\n",
    "plt.show()"
   ]
  },
  {
   "cell_type": "markdown",
   "metadata": {},
   "source": [
    "---"
   ]
  },
  {
   "cell_type": "markdown",
   "metadata": {},
   "source": [
    "## Prediction Result\n",
    "### Compare actual and predicted values with some validation set images"
   ]
  },
  {
   "cell_type": "code",
   "execution_count": 15,
   "metadata": {
    "collapsed": true
   },
   "outputs": [],
   "source": [
    "import matplotlib.image as mpimg\n",
    "\n",
    "min1 = np.min(X_holdout)\n",
    "max1 = np.max(X_holdout)\n",
    "diff1 = max1 - min1\n",
    "my_sum = lambda x: (x - min1)/diff1\n",
    "\n",
    "X_holdout2 = my_sum(X_holdout)"
   ]
  },
  {
   "cell_type": "code",
   "execution_count": 16,
   "metadata": {},
   "outputs": [
    {
     "data": {
      "text/plain": [
       "(160, 75, 75, 3)"
      ]
     },
     "execution_count": 16,
     "metadata": {},
     "output_type": "execute_result"
    }
   ],
   "source": [
    "X_holdout2.shape"
   ]
  },
  {
   "cell_type": "code",
   "execution_count": 18,
   "metadata": {},
   "outputs": [
    {
     "data": {
      "text/plain": [
       "<matplotlib.text.Text at 0x7f11e9e52eb8>"
      ]
     },
     "execution_count": 18,
     "metadata": {},
     "output_type": "execute_result"
    },
    {
     "data": {
      "image/png": "[encoded data removed]",
      "text/plain": [
       "<matplotlib.figure.Figure at 0x7f11ef0bc860>"
      ]
     },
     "metadata": {},
     "output_type": "display_data"
    }
   ],
   "source": [
    "plt.imshow(X_holdout2[0], cmap='gray', interpolation='nearest');\n",
    "tl = \"Actual label : \" +str(Y_holdout[13])+ \",\"+\" iceberg_probability : \"+str(pred_valid[0])\n",
    "plt.title(tl)"
   ]
  },
  {
   "cell_type": "code",
   "execution_count": 17,
   "metadata": {},
   "outputs": [
    {
     "data": {
      "text/plain": [
       "13      1\n",
       "14      0\n",
       "38      1\n",
       "43      0\n",
       "44      0\n",
       "80      0\n",
       "104     1\n",
       "127     0\n",
       "137     0\n",
       "138     1\n",
       "141     1\n",
       "167     1\n",
       "195     1\n",
       "199     0\n",
       "207     1\n",
       "212     0\n",
       "213     1\n",
       "221     0\n",
       "240     0\n",
       "256     0\n",
       "267     1\n",
       "274     1\n",
       "276     1\n",
       "285     1\n",
       "290     0\n",
       "294     0\n",
       "300     1\n",
       "307     1\n",
       "311     1\n",
       "318     1\n",
       "       ..\n",
       "1363    1\n",
       "1364    0\n",
       "1373    1\n",
       "1380    1\n",
       "1394    0\n",
       "1411    0\n",
       "1435    0\n",
       "1440    1\n",
       "1445    1\n",
       "1447    1\n",
       "1460    1\n",
       "1470    0\n",
       "1488    0\n",
       "1495    0\n",
       "1504    1\n",
       "1516    0\n",
       "1525    0\n",
       "1533    0\n",
       "1537    0\n",
       "1539    0\n",
       "1541    0\n",
       "1542    0\n",
       "1549    0\n",
       "1552    0\n",
       "1559    0\n",
       "1566    0\n",
       "1567    0\n",
       "1577    0\n",
       "1590    0\n",
       "1602    0\n",
       "Name: is_iceberg, Length: 160, dtype: int64"
      ]
     },
     "execution_count": 17,
     "metadata": {},
     "output_type": "execute_result"
    }
   ],
   "source": [
    "Y_holdout"
   ]
  },
  {
   "cell_type": "code",
   "execution_count": 19,
   "metadata": {},
   "outputs": [
    {
     "data": {
      "text/plain": [
       "<matplotlib.text.Text at 0x7f11e9e3a198>"
      ]
     },
     "execution_count": 19,
     "metadata": {},
     "output_type": "execute_result"
    },
    {
     "data": {
      "image/png": "[encoded data removed]",
      "text/plain": [
       "<matplotlib.figure.Figure at 0x7f11e9e06fd0>"
      ]
     },
     "metadata": {},
     "output_type": "display_data"
    }
   ],
   "source": [
    "plt.imshow(X_holdout2[1], cmap='gray', interpolation='nearest');\n",
    "tl = \"Actual label : \" +str(Y_holdout[14])+ \",\"+\" iceberg_probability : \"+str(pred_valid[1])\n",
    "plt.title(tl)"
   ]
  },
  {
   "cell_type": "code",
   "execution_count": 20,
   "metadata": {},
   "outputs": [
    {
     "data": {
      "text/plain": [
       "(160, 1)"
      ]
     },
     "execution_count": 20,
     "metadata": {},
     "output_type": "execute_result"
    }
   ],
   "source": [
    "pred_valid.shape"
   ]
  },
  {
   "cell_type": "code",
   "execution_count": 21,
   "metadata": {},
   "outputs": [
    {
     "data": {
      "text/plain": [
       "(160,)"
      ]
     },
     "execution_count": 21,
     "metadata": {},
     "output_type": "execute_result"
    }
   ],
   "source": [
    "Y_holdout.shape"
   ]
  },
  {
   "cell_type": "code",
   "execution_count": 22,
   "metadata": {},
   "outputs": [
    {
     "data": {
      "text/plain": [
       "<matplotlib.text.Text at 0x7f11e9d96748>"
      ]
     },
     "execution_count": 22,
     "metadata": {},
     "output_type": "execute_result"
    },
    {
     "data": {
      "image/png": "[encoded data removed]",
      "text/plain": [
       "<matplotlib.figure.Figure at 0x7f11e9e2c780>"
      ]
     },
     "metadata": {},
     "output_type": "display_data"
    }
   ],
   "source": [
    "plt.imshow(X_holdout2[2], cmap='gray', interpolation='nearest');\n",
    "tl = \"Actual label : \" +str(Y_holdout[38])+ \",\"+\" iceberg_probability : \"+str(pred_valid[2])\n",
    "plt.title(tl)"
   ]
  },
  {
   "cell_type": "code",
   "execution_count": 23,
   "metadata": {},
   "outputs": [
    {
     "data": {
      "text/plain": [
       "<matplotlib.text.Text at 0x7f11e9d789b0>"
      ]
     },
     "execution_count": 23,
     "metadata": {},
     "output_type": "execute_result"
    },
    {
     "data": {
      "image/png": "[encoded data removed]",
      "text/plain": [
       "<matplotlib.figure.Figure at 0x7f11e9df76d8>"
      ]
     },
     "metadata": {},
     "output_type": "display_data"
    }
   ],
   "source": [
    "plt.imshow(X_holdout2[159], cmap='gray', interpolation='nearest');\n",
    "tl = \"Actual label : \" +str(Y_holdout[1602])+ \",\"+\" iceberg_probability : \"+str(pred_valid[159])\n",
    "plt.title(tl)"
   ]
  },
  {
   "cell_type": "code",
   "execution_count": 24,
   "metadata": {},
   "outputs": [
    {
     "data": {
      "text/plain": [
       "<matplotlib.text.Text at 0x7f11e9cde320>"
      ]
     },
     "execution_count": 24,
     "metadata": {},
     "output_type": "execute_result"
    },
    {
     "data": {
      "image/png": "[encoded data removed]",
      "text/plain": [
       "<matplotlib.figure.Figure at 0x7f11e9d2efd0>"
      ]
     },
     "metadata": {},
     "output_type": "display_data"
    }
   ],
   "source": [
    "plt.imshow(X_holdout2[3], cmap='gray', interpolation='nearest');\n",
    "tl = \"Actual label : \" +str(Y_holdout[43])+ \",\"+\" iceberg_probability : \"+str(pred_valid[3])\n",
    "plt.title(tl)"
   ]
  }
 ],
 "metadata": {
  "kernelspec": {
   "display_name": "Python 3",
   "language": "python",
   "name": "python3"
  },
  "language_info": {
   "codemirror_mode": {
    "name": "ipython",
    "version": 3
   },
   "file_extension": ".py",
   "mimetype": "text/x-python",
   "name": "python",
   "nbconvert_exporter": "python",
   "pygments_lexer": "ipython3",
   "version": "3.6.4"
  }
 },
 "nbformat": 4,
 "nbformat_minor": 2
}
